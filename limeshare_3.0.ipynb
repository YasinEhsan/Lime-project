{
 "cells": [
  {
   "cell_type": "code",
   "execution_count": 564,
   "metadata": {},
   "outputs": [],
   "source": [
    "from modsim import *\n",
    "import math\n",
    "import pandas as pd\n",
    "from random import randint "
   ]
  },
  {
   "cell_type": "markdown",
   "metadata": {},
   "source": [
    "# LIMESHARE \n",
    "\n",
    "- limeshare is...\n",
    "\n",
    "\n"
   ]
  },
  {
   "cell_type": "markdown",
   "metadata": {},
   "source": [
    "## Below is our state with attributes:\n",
    "- **number_of_scooters:** scooters deployed in region (20-120)\n",
    "- **av_batt_life:** the average battery life of number_of_scooters a value from (0-100)\n",
    "- **size_of_region:** the square acres of a region (200-2000)\n",
    "- **send_truck:** the hour when we send our truck to recharge all scooters (0-23)\n",
    "- **delta_by_hour:** the change in av_batt_life in each hourly step"
   ]
  },
  {
   "cell_type": "code",
   "execution_count": 565,
   "metadata": {},
   "outputs": [
    {
     "data": {
      "text/html": [
       "<div>\n",
       "<style scoped>\n",
       "    .dataframe tbody tr th:only-of-type {\n",
       "        vertical-align: middle;\n",
       "    }\n",
       "\n",
       "    .dataframe tbody tr th {\n",
       "        vertical-align: top;\n",
       "    }\n",
       "\n",
       "    .dataframe thead th {\n",
       "        text-align: right;\n",
       "    }\n",
       "</style>\n",
       "<table border=\"1\" class=\"dataframe\">\n",
       "  <thead>\n",
       "    <tr style=\"text-align: right;\">\n",
       "      <th></th>\n",
       "      <th>values</th>\n",
       "    </tr>\n",
       "  </thead>\n",
       "  <tbody>\n",
       "    <tr>\n",
       "      <td>number_of_scooters</td>\n",
       "      <td>20</td>\n",
       "    </tr>\n",
       "    <tr>\n",
       "      <td>av_batt_life</td>\n",
       "      <td>100</td>\n",
       "    </tr>\n",
       "    <tr>\n",
       "      <td>size_of_region</td>\n",
       "      <td>200</td>\n",
       "    </tr>\n",
       "    <tr>\n",
       "      <td>send_truck</td>\n",
       "      <td>-1</td>\n",
       "    </tr>\n",
       "    <tr>\n",
       "      <td>delta_by_hour</td>\n",
       "      <td>[]</td>\n",
       "    </tr>\n",
       "  </tbody>\n",
       "</table>\n",
       "</div>"
      ],
      "text/plain": [
       "number_of_scooters     20\n",
       "av_batt_life          100\n",
       "size_of_region        200\n",
       "send_truck             -1\n",
       "delta_by_hour          []\n",
       "dtype: object"
      ]
     },
     "execution_count": 565,
     "metadata": {},
     "output_type": "execute_result"
    }
   ],
   "source": [
    "limeshare = State(number_of_scooters = 20, av_batt_life = 100, size_of_region = 200, send_truck = -1, delta_by_hour = [])\n",
    "limeshare"
   ]
  },
  {
   "cell_type": "markdown",
   "metadata": {},
   "source": [
    "## step for the hour \n",
    "- simulates usage of scooters in a region for one hour \n",
    "- if the av_batt_life is < 20 calls for truck to recharge scooters"
   ]
  },
  {
   "cell_type": "code",
   "execution_count": 566,
   "metadata": {},
   "outputs": [],
   "source": [
    "def step(state, hour):\n",
    "#     find number of users per hour (rush hour = more users)\n",
    "#     returns a num between (0, state.number_of_scooters)\n",
    "    demand = calcDemand(state.number_of_scooters, hour)\n",
    "    \n",
    "#     find the average ride length per rider from demand (bigger region = higher av length of use)\n",
    "#     returns a num between ~(10-60)\n",
    "    length_of_use = calcAverageRide(state.size_of_region, demand)\n",
    "    \n",
    "#     calc change in battery \n",
    "    calcBattDelta(state, demand, length_of_use)\n",
    "    \n",
    "#   adds latest changes in av_batt_life\n",
    "    state.delta_by_hour.append(state.av_batt_life)\n",
    "    \n",
    "#     find hour to send truck\n",
    "    if(state.av_batt_life < 20 and state.send_truck == -1):\n",
    "        sendTruck(state, hour)\n"
   ]
  },
  {
   "cell_type": "markdown",
   "metadata": {},
   "source": [
    "## Calculate demand for scooters based on: \n",
    "- traffic times \n",
    "    - HIGH : going to work (8-10pm), lunch time (12-2pm), going home (4-6pm)\n",
    "    - NUETRAL : early birds (6-8am), night outs (8pm-11pm)\n",
    "    - LOW : all remaining times\n",
    "- scooters in the area (this is a hard max) \n",
    "- randomize using round (say bad weather hour)\n",
    "\n",
    "\n",
    "**Returns num of scooters with range (0, number_of_scooters)**\n",
    "   - the lowest possible demand is zero and the highest is number of scooters int that region"
   ]
  },
  {
   "cell_type": "code",
   "execution_count": 567,
   "metadata": {},
   "outputs": [],
   "source": [
    "def calcDemand(scooters, hour):\n",
    "    return int(scooters/2) \n",
    "#     if hour >= 8 and hour < 10 or hour >= 12 and hour < 14 or hour >= 16 and hour < 18:\n",
    "#         return int(scooters/2) \n",
    "#     elif hour == 6 or hour == 7 or hour >= 20 and hour < 23:  \n",
    "#         return int(scooters - 4)\n",
    "#     else: \n",
    "#         if hour == 0:\n",
    "#             return int(scooters - 5)\n",
    "#         else:\n",
    "#             return int(scooters - 5)"
   ]
  },
  {
   "cell_type": "markdown",
   "metadata": {},
   "source": [
    "**The following code is used to test ideal hour ranges for our function above with demand.**\n",
    "- the goal was to have a higher min for higher traffic times compatible with sccoter amounts range(20-100)\n",
    "\n",
    "\n",
    "| trafffic | min  | max  | av |  \n",
    "|:---|---|---|---|\n",
    "| high  (13)| 13  |100   |   57.03|   \n",
    "| nuetral  (20)| 1  | 100  |  48.34 |   \n",
    "| low (4)|  0 |  25 |  12.55 |   \n",
    "[This is for 100 scooters]\n",
    "\n",
    "\n",
    "| trafffic | min  | max  | av |  \n",
    "|:---|---|---|---|\n",
    "| high  (13)|   7|20   |   13.08|   \n",
    "| nuetral  (20)| 0  | 20  |  10.6 |   \n",
    "| low (4)|  0 | 5  | 2.37  |   \n",
    "[This is for 20 scooters]"
   ]
  },
  {
   "cell_type": "code",
   "execution_count": 568,
   "metadata": {},
   "outputs": [
    {
     "name": "stdout",
     "output_type": "stream",
     "text": [
      "50 50 49.5\n"
     ]
    }
   ],
   "source": [
    "# have to rewrite minimum var from min to 'mini' below bc min is reserved \n",
    "hours, mini, max, av = 4, 100, 0, 0\n",
    "for i in range(1, 100):\n",
    "    store = calcDemand(100, hours)\n",
    "    if store < mini: mini = store\n",
    "    if store > max: max = store\n",
    "    av += store\n",
    "print(mini, max, av/100)"
   ]
  },
  {
   "cell_type": "markdown",
   "metadata": {},
   "source": [
    "## Caluculate average ride length of scooters used \n",
    "\n",
    "**factors the affect the ride length**\n",
    "- area of region (the higher the area the longer the ride)\n",
    "- demand (if there is more demand, chances are the rides are longer)\n",
    "\n",
    "**Ranges for inputs**\n",
    "- demand: from 10-70 ore more\n",
    "- areas: 200 - 2000 acres\n",
    "\n",
    "**returns average length scooters used for the hour with range (~10, ~60) min**\n",
    "- check the test methods below "
   ]
  },
  {
   "cell_type": "code",
   "execution_count": 569,
   "metadata": {},
   "outputs": [],
   "source": [
    "def calcRide(area):\n",
    "    return int(area/100) \n",
    "\n",
    "def calcAverageRide(area, demand):\n",
    "    av = 0\n",
    "    for i in range (0, demand): \n",
    "        av += calcRide (area);\n",
    "    return av/demand if demand > 0 else 0"
   ]
  },
  {
   "cell_type": "markdown",
   "metadata": {},
   "source": [
    "Test the method above with av demand of 30 scooters and area range 500-2k acres"
   ]
  },
  {
   "cell_type": "code",
   "execution_count": 570,
   "metadata": {},
   "outputs": [
    {
     "name": "stdout",
     "output_type": "stream",
     "text": [
      "5.0 10.0 20.0\n"
     ]
    }
   ],
   "source": [
    "print(calcAverageRide(500, 30), calcAverageRide(1000, 30), calcAverageRide(2000, 30))"
   ]
  },
  {
   "cell_type": "markdown",
   "metadata": {},
   "source": [
    "## Calc changes in average battery life of region from demand \n",
    "We came up with a simple formula in class. The whole point of the fucntion is to check how much battery goes down from sccoter usage \n",
    "\n",
    "### CASE STUDY:\n",
    "- lets say before method is called we have 20 scooters (s) in region with av battery life of 100 percent (c) \n",
    "- this means all the scooters in this regions is fully charged\n",
    "- if let's say the demand is only 1 scooter (t) and we say that scooter charge after use goes down 10 percent (d)  \n",
    "- then the average for all the scooters decreases by a little but exactly how much ?  \n",
    "<br/>\n",
    "\n",
    "#### The new average battery life of the region can be calculated by finding... \n",
    "- **batt_not_used:** The av of scooters that were'nt used times the charge \n",
    "    - so 19\\*100 OR (s-t)\\*c = 1900\n",
    "- **batt_used:** the average of scooters that were used times the charge delta \n",
    "    - so 1\\*90 OR t(c-d) = 90\n",
    "- the new average of the region is thus \n",
    "    - (batt_not_used + batt_used) / s = (1900 + 90) / 20 = 99.5\n",
    "\n",
    "THE FORMULA\n",
    "- ((s-t)*c + t*(c- d)) / s\n",
    "    \n",
    "\n",
    "**Inputs range**\n",
    "- state: as defined\n",
    "- demand: same as inputs range for calcDemand() which is (0, state.number_of_scooters) or (0-120ish) for this model\n",
    "- av_length_of_use: same as inputs range for calcAvRide() which is (~10, ~60)"
   ]
  },
  {
   "cell_type": "code",
   "execution_count": 571,
   "metadata": {},
   "outputs": [],
   "source": [
    "def calcBattDelta(state, demand, av_length_of_use):\n",
    "    s = state.number_of_scooters \n",
    "    c = state.av_batt_life\n",
    "    t = demand\n",
    "    d = (av_length_of_use / 60)*100\n",
    "    \n",
    "    state.av_batt_life =  math.floor(((s-t)*c + t*(c- d)) / s)\n",
    "        \n",
    "\n",
    "def sendTruck(state, hour):\n",
    "    state.send_truck = hour;"
   ]
  },
  {
   "cell_type": "markdown",
   "metadata": {},
   "source": [
    "## Test calc delta \n",
    "- interestd in testing d val with fixed \n",
    "    - state as above first example \n",
    "    - demand is high traffic \n",
    "    - av_length is call tthat func"
   ]
  },
  {
   "cell_type": "code",
   "execution_count": 572,
   "metadata": {},
   "outputs": [],
   "source": [
    "# for av_length in range(10,100)\n",
    "#     calcBattDelta(state, demand, av_length_of_use)\n"
   ]
  },
  {
   "cell_type": "markdown",
   "metadata": {},
   "source": [
    "## a day in a region with scooters\n",
    "- simulates usage of scooters in a region for one day\n",
    "- if we have found the hour to send truck, we have found what is needed and exit"
   ]
  },
  {
   "cell_type": "code",
   "execution_count": 573,
   "metadata": {},
   "outputs": [],
   "source": [
    "def run_simulation(state, num_steps):     \n",
    "    results = TimeSeries()\n",
    "    for hour in range(num_steps):\n",
    "        #  this is our line in the sand to prevent calculating after our desired purpose for the model has been found\n",
    "        if(state.send_truck != -1):\n",
    "            return\n",
    "        step(state, hour)\n",
    "        results[hour] = state.av_batt_life"
   ]
  },
  {
   "cell_type": "code",
   "execution_count": 574,
   "metadata": {},
   "outputs": [
    {
     "data": {
      "text/html": [
       "<div>\n",
       "<style scoped>\n",
       "    .dataframe tbody tr th:only-of-type {\n",
       "        vertical-align: middle;\n",
       "    }\n",
       "\n",
       "    .dataframe tbody tr th {\n",
       "        vertical-align: top;\n",
       "    }\n",
       "\n",
       "    .dataframe thead th {\n",
       "        text-align: right;\n",
       "    }\n",
       "</style>\n",
       "<table border=\"1\" class=\"dataframe\">\n",
       "  <thead>\n",
       "    <tr style=\"text-align: right;\">\n",
       "      <th></th>\n",
       "      <th>values</th>\n",
       "    </tr>\n",
       "  </thead>\n",
       "  <tbody>\n",
       "    <tr>\n",
       "      <td>number_of_scooters</td>\n",
       "      <td>20</td>\n",
       "    </tr>\n",
       "    <tr>\n",
       "      <td>av_batt_life</td>\n",
       "      <td>-18</td>\n",
       "    </tr>\n",
       "    <tr>\n",
       "      <td>size_of_region</td>\n",
       "      <td>7000</td>\n",
       "    </tr>\n",
       "    <tr>\n",
       "      <td>send_truck</td>\n",
       "      <td>1</td>\n",
       "    </tr>\n",
       "    <tr>\n",
       "      <td>delta_by_hour</td>\n",
       "      <td>[41, -18]</td>\n",
       "    </tr>\n",
       "  </tbody>\n",
       "</table>\n",
       "</div>"
      ],
      "text/plain": [
       "number_of_scooters           20\n",
       "av_batt_life                -18\n",
       "size_of_region             7000\n",
       "send_truck                    1\n",
       "delta_by_hour         [41, -18]\n",
       "dtype: object"
      ]
     },
     "execution_count": 574,
     "metadata": {},
     "output_type": "execute_result"
    }
   ],
   "source": [
    "limeshare = State(number_of_scooters = 20, av_batt_life = 100, size_of_region = 7000, send_truck = -1, delta_by_hour = [])\n",
    "run_simulation(limeshare, 24)\n",
    "limeshare"
   ]
  },
  {
   "cell_type": "markdown",
   "metadata": {},
   "source": [
    "## run_simulation A:  \n",
    "#### variable *size_of_region*, fixed  *number_of_scooters*\n",
    "- testing acres from 200 to 1000 in increments of 200\n",
    "- tuple array ( region size, hour truck sent, first batt delta recorded, last batt delta recorded)\n",
    "- expectation : with larger region we need to send the truck earlier\n"
   ]
  },
  {
   "cell_type": "code",
   "execution_count": 575,
   "metadata": {},
   "outputs": [],
   "source": [
    "def runModel():\n",
    "    regions = linspace(200, 2000, 100)\n",
    "    results = []\n",
    "    for i in regions:\n",
    "        limeshare = State(number_of_scooters = 30, av_batt_life = 100, size_of_region = round(i + 1), send_truck = -1, delta_by_hour = [])\n",
    "        run_simulation(limeshare, 24)\n",
    "        data = (limeshare.size_of_region, limeshare.send_truck, len(limeshare.delta_by_hour), limeshare.delta_by_hour[0] )\n",
    "        results.append(data)\n",
    "    return results "
   ]
  },
  {
   "cell_type": "code",
   "execution_count": 576,
   "metadata": {
    "scrolled": true
   },
   "outputs": [
    {
     "name": "stdout",
     "output_type": "stream",
     "text": [
      "[24, 24, 24, 24, 24, 24, 24, 24, 24, 24, 24, 21, 21, 21, 21, 21, 21, 17, 17, 17, 17, 17, 17, 17, 17, 17, 17, 17, 14, 14, 14, 14, 14, 12, 12, 12, 12, 12, 12, 11, 11, 11, 11, 11, 9, 9, 9, 9, 9, 9, 9, 9, 9, 9, 9, 9, 9, 9, 9, 9, 9, 8, 8, 8, 8, 8, 7, 7, 7, 7, 7, 7, 7, 7, 7, 7, 7, 6, 6, 6, 6, 6, 6, 6, 6, 6, 6, 6, 6, 6, 6, 6, 6, 6, 6, 6, 6, 6, 6, 5]\n",
      "[98, 98, 98, 98, 98, 98, 97, 97, 97, 97, 97, 96, 96, 96, 96, 96, 96, 95, 95, 95, 95, 95, 95, 95, 95, 95, 95, 95, 94, 94, 94, 94, 94, 93, 93, 93, 93, 93, 93, 92, 92, 92, 92, 92, 91, 91, 91, 91, 91, 91, 90, 90, 90, 90, 90, 90, 90, 90, 90, 90, 90, 89, 89, 89, 89, 89, 88, 88, 88, 88, 88, 88, 87, 87, 87, 87, 87, 86, 86, 86, 86, 86, 86, 85, 85, 85, 85, 85, 85, 85, 85, 85, 85, 85, 84, 84, 84, 84, 84, 83]\n"
     ]
    },
    {
     "data": {
      "image/png": "[encoded data removed]",
      "text/plain": [
       "<Figure size 432x288 with 1 Axes>"
      ]
     },
     "metadata": {
      "needs_background": "light"
     },
     "output_type": "display_data"
    }
   ],
   "source": [
    "sample_regions = runModel()\n",
    "plot([x[0] for x in sample_regions], [x[1] for x in sample_regions], label='')\n",
    "def decorate_limeshare():\n",
    "    \"\"\"Add a title and label the axes.\"\"\"\n",
    "    decorate(title='variable *size_of_region*, fixed  *number_of_scooters*',\n",
    "             xlabel='size_of_region', \n",
    "             ylabel='send_truck')\n",
    "# print([x[0] for x in sample_regions])\n",
    "# print([x[1] for x in sample_regions])\n",
    "print([x[2] for x in sample_regions])\n",
    "print([x[3] for x in sample_regions])\n",
    "decorate_limeshare()"
   ]
  },
  {
   "cell_type": "markdown",
   "metadata": {},
   "source": [
    "## Results \n",
    "- expectations met! "
   ]
  },
  {
   "cell_type": "markdown",
   "metadata": {},
   "source": [
    "## Model with real data \n",
    "- below are the actual sizes of regions in acres within Queens"
   ]
  },
  {
   "cell_type": "code",
   "execution_count": 577,
   "metadata": {},
   "outputs": [],
   "source": [
    "region_data = [(\"Forest Hills\", 1664), \n",
    "                (\"Jamaica\", 1709), \n",
    "                (\"Richmond Hill\", 1171),\n",
    "                (\"Ozone Park\",576),\n",
    "                (\"Queens Village\", 1611),\n",
    "                (\"Astoria\", 902),\n",
    "                (\"College Point\", 1148),\n",
    "                (\"Woodside\", 649)]"
   ]
  },
  {
   "cell_type": "code",
   "execution_count": 578,
   "metadata": {},
   "outputs": [
    {
     "name": "stdout",
     "output_type": "stream",
     "text": [
      "['Forest Hills', 'Jamaica', 'Richmond Hill', 'Ozone Park', 'Queens Village', 'Astoria', 'College Point', 'Woodside']\n",
      "[1664, 1709, 1171, 576, 1611, 902, 1148, 649]\n",
      "[('Forest Hills', 1664), ('Jamaica', 1709), ('Richmond Hill', 1171), ('Ozone Park', 576), ('Queens Village', 1611), ('Astoria', 902), ('College Point', 1148), ('Woodside', 649)]\n"
     ]
    }
   ],
   "source": [
    "# print only the region names\n",
    "print([x[0] for x in region_data])\n",
    "# print the areas\n",
    "print([x[1] for x in region_data])\n",
    "# print tuple\n",
    "print(region_data)\n"
   ]
  },
  {
   "cell_type": "markdown",
   "metadata": {},
   "source": [
    "#### sort tuple array by area "
   ]
  },
  {
   "cell_type": "code",
   "execution_count": 579,
   "metadata": {},
   "outputs": [
    {
     "name": "stdout",
     "output_type": "stream",
     "text": [
      "[576, 649, 902, 1148, 1171, 1611, 1664, 1709]\n",
      "[('Ozone Park', 576), ('Woodside', 649), ('Astoria', 902), ('College Point', 1148), ('Richmond Hill', 1171), ('Queens Village', 1611), ('Forest Hills', 1664), ('Jamaica', 1709)]\n"
     ]
    }
   ],
   "source": [
    "region_data.sort(key=lambda tup: tup[1])\n",
    "# print the areas\n",
    "print([x[1] for x in region_data])\n",
    "# print tuple\n",
    "print(region_data)\n"
   ]
  },
  {
   "cell_type": "markdown",
   "metadata": {},
   "source": [
    "## run_simulation B:  \n",
    "#### use real data to model which hour we send truck"
   ]
  },
  {
   "cell_type": "code",
   "execution_count": 580,
   "metadata": {},
   "outputs": [],
   "source": [
    "def runModel():\n",
    "    results = []\n",
    "    for area in [x[1] for x in region_data]:\n",
    "        limeshare = State(number_of_scooters = 30, av_batt_life = 100, size_of_region = area, send_truck = -1, delta_by_hour = [])\n",
    "        run_simulation(limeshare, 24)\n",
    "        data = (limeshare.size_of_region, limeshare.send_truck, len(limeshare.delta_by_hour))\n",
    "        results.append(data)\n",
    "    return results "
   ]
  },
  {
   "cell_type": "code",
   "execution_count": 581,
   "metadata": {},
   "outputs": [
    {
     "name": "stdout",
     "output_type": "stream",
     "text": [
      "[24, 24, 24, 24, 24, 24, 24, 24, 24, 24, 24, 21, 21, 21, 21, 21, 21, 17, 17, 17, 17, 17, 17, 17, 17, 17, 17, 17, 14, 14, 14, 14, 14, 12, 12, 12, 12, 12, 12, 11, 11, 11, 11, 11, 9, 9, 9, 9, 9, 9, 9, 9, 9, 9, 9, 9, 9, 9, 9, 9, 9, 8, 8, 8, 8, 8, 7, 7, 7, 7, 7, 7, 7, 7, 7, 7, 7, 6, 6, 6, 6, 6, 6, 6, 6, 6, 6, 6, 6, 6, 6, 6, 6, 6, 6, 6, 6, 6, 6, 5]\n",
      "[98, 98, 98, 98, 98, 98, 97, 97, 97, 97, 97, 96, 96, 96, 96, 96, 96, 95, 95, 95, 95, 95, 95, 95, 95, 95, 95, 95, 94, 94, 94, 94, 94, 93, 93, 93, 93, 93, 93, 92, 92, 92, 92, 92, 91, 91, 91, 91, 91, 91, 90, 90, 90, 90, 90, 90, 90, 90, 90, 90, 90, 89, 89, 89, 89, 89, 88, 88, 88, 88, 88, 88, 87, 87, 87, 87, 87, 86, 86, 86, 86, 86, 86, 85, 85, 85, 85, 85, 85, 85, 85, 85, 85, 85, 84, 84, 84, 84, 84, 83]\n"
     ]
    },
    {
     "data": {
      "image/png": "[encoded data removed]",
      "text/plain": [
       "<Figure size 432x288 with 1 Axes>"
      ]
     },
     "metadata": {
      "needs_background": "light"
     },
     "output_type": "display_data"
    }
   ],
   "source": [
    "model_data = runModel()\n",
    "plot([x[0] for x in model_data], [x[1] for x in model_data], label='')\n",
    "def decorate_limeshare():\n",
    "    \"\"\"Add a title and label the axes.\"\"\"\n",
    "    decorate(title='Times to send truck in Queens based of region size',\n",
    "             xlabel='size_of_region', \n",
    "             ylabel='send_truck')\n",
    "# print([x[0] for x in sample_regions])\n",
    "# print([x[1] for x in sample_regions])\n",
    "print([x[2] for x in sample_regions])\n",
    "print([x[3] for x in sample_regions])\n",
    "decorate_limeshare()"
   ]
  },
  {
   "cell_type": "code",
   "execution_count": 582,
   "metadata": {},
   "outputs": [
    {
     "name": "stdout",
     "output_type": "stream",
     "text": [
      "['Ozone Park', 'Woodside', 'Astoria', 'College Point', 'Richmond Hill', 'Queens Village', 'Forest Hills', 'Jamaica'] [16, 16, 10, 8, 8, 5, 5, 5]\n"
     ]
    }
   ],
   "source": [
    "print([x[0] for x in region_data], [x[1] for x in model_data])"
   ]
  },
  {
   "cell_type": "code",
   "execution_count": null,
   "metadata": {},
   "outputs": [],
   "source": []
  },
  {
   "cell_type": "code",
   "execution_count": null,
   "metadata": {},
   "outputs": [],
   "source": []
  },
  {
   "cell_type": "code",
   "execution_count": null,
   "metadata": {},
   "outputs": [],
   "source": []
  },
  {
   "cell_type": "code",
   "execution_count": null,
   "metadata": {},
   "outputs": [],
   "source": []
  },
  {
   "cell_type": "code",
   "execution_count": null,
   "metadata": {},
   "outputs": [],
   "source": []
  },
  {
   "cell_type": "code",
   "execution_count": null,
   "metadata": {},
   "outputs": [],
   "source": []
  }
 ],
 "metadata": {
  "kernelspec": {
   "display_name": "Python 3",
   "language": "python",
   "name": "python3"
  },
  "language_info": {
   "codemirror_mode": {
    "name": "ipython",
    "version": 3
   },
   "file_extension": ".py",
   "mimetype": "text/x-python",
   "name": "python",
   "nbconvert_exporter": "python",
   "pygments_lexer": "ipython3",
   "version": "3.7.4"
  }
 },
 "nbformat": 4,
 "nbformat_minor": 2
}
