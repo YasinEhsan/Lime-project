{
 "cells": [
  {
   "cell_type": "code",
   "execution_count": 2,
   "metadata": {},
   "outputs": [],
   "source": [
    "from modsim import *\n",
    "import math\n",
    "import pandas as pd\n",
    "from random import randint "
   ]
  },
  {
   "cell_type": "markdown",
   "metadata": {},
   "source": [
    "# LIMESHARE \n",
    "\n",
    "- limeshare is...\n",
    "\n",
    "\n",
    "**Below is our state with attributes:**\n",
    "- number_of_scooters: \n",
    "- av_batt_life:\n",
    "- size_of_region:\n",
    "- send_truck:"
   ]
  },
  {
   "cell_type": "code",
   "execution_count": 3,
   "metadata": {},
   "outputs": [
    {
     "data": {
      "text/html": [
       "<div>\n",
       "<style scoped>\n",
       "    .dataframe tbody tr th:only-of-type {\n",
       "        vertical-align: middle;\n",
       "    }\n",
       "\n",
       "    .dataframe tbody tr th {\n",
       "        vertical-align: top;\n",
       "    }\n",
       "\n",
       "    .dataframe thead th {\n",
       "        text-align: right;\n",
       "    }\n",
       "</style>\n",
       "<table border=\"1\" class=\"dataframe\">\n",
       "  <thead>\n",
       "    <tr style=\"text-align: right;\">\n",
       "      <th></th>\n",
       "      <th>values</th>\n",
       "    </tr>\n",
       "  </thead>\n",
       "  <tbody>\n",
       "    <tr>\n",
       "      <td>number_of_scooters</td>\n",
       "      <td>20</td>\n",
       "    </tr>\n",
       "    <tr>\n",
       "      <td>av_batt_life</td>\n",
       "      <td>100</td>\n",
       "    </tr>\n",
       "    <tr>\n",
       "      <td>size_of_region</td>\n",
       "      <td>2</td>\n",
       "    </tr>\n",
       "    <tr>\n",
       "      <td>send_truck</td>\n",
       "      <td>-1</td>\n",
       "    </tr>\n",
       "  </tbody>\n",
       "</table>\n",
       "</div>"
      ],
      "text/plain": [
       "number_of_scooters     20\n",
       "av_batt_life          100\n",
       "size_of_region          2\n",
       "send_truck             -1\n",
       "dtype: int64"
      ]
     },
     "execution_count": 3,
     "metadata": {},
     "output_type": "execute_result"
    }
   ],
   "source": [
    "limeshare = State(number_of_scooters = 20, av_batt_life = 100, size_of_region = 2, send_truck = -1)\n",
    "limeshare"
   ]
  },
  {
   "cell_type": "code",
   "execution_count": 4,
   "metadata": {},
   "outputs": [],
   "source": [
    "def step(state, hour):\n",
    "#     find number of users per hour (rush hour = more users)\n",
    "#     returns a num between (0, state.number_of_scooters)\n",
    "    demand = calcDemand(state.number_of_scooters, hour)\n",
    "    \n",
    "#     find the average ride length per rider from demand (bigger region = higher av length of use)\n",
    "#     returns a num between ~(10-60)\n",
    "    length_of_use = calcAverageRide(state.size_of_region, demand)\n",
    "    \n",
    "#     calc change in battery \n",
    "    calcBattDelta(state, demand, 10)\n",
    "    \n",
    "#     find hour to send truck\n",
    "    if(state.av_batt_life < 20 and state.send_truck == -1):\n",
    "        sendTruck(state, hour)\n"
   ]
  },
  {
   "cell_type": "markdown",
   "metadata": {},
   "source": [
    "## Calculate demand for scooters based on: \n",
    "- traffic times \n",
    "    - HIGH : going to work (8-10pm), lunch time (12-2pm), going home (4-6pm)\n",
    "    - NUETRAL : early birds (6-8am), night outs (8pm-11pm)\n",
    "    - LOW : all remaining times\n",
    "- scooters in the area (this is a hard max) \n",
    "- randomize using round (say bad weather hour)\n",
    "\n",
    "\n",
    "**Returns num of scooters with range (0, number_of_scooters)**\n",
    "   - the lowest possible demand is zero and the highest is number of scooters int that region"
   ]
  },
  {
   "cell_type": "code",
   "execution_count": 5,
   "metadata": {},
   "outputs": [],
   "source": [
    "def calcDemand(scooters, hour):\n",
    "    if hour >= 8 and hour < 10 or hour >= 12 and hour < 14 or hour >= 16 and hour < 18:\n",
    "        return randint(int(scooters/hour) + int(hour/2), scooters)\n",
    "    elif hour == 6 or hour == 7 or hour >= 20 and hour < 23:  \n",
    "        return randint(scooters%int(hour/2), scooters)\n",
    "    else: \n",
    "        if hour == 0:\n",
    "            return randint(hour, int(scooters/4))\n",
    "        else:\n",
    "            return randint(int(hour/6), int(scooters/4))"
   ]
  },
  {
   "cell_type": "markdown",
   "metadata": {},
   "source": [
    "**The following code is used to test ideal hour ranges for our function above with demand.**\n",
    "- the goal was to have a higher min for higher traffic times compatible with sccoter amounts range(20-100)\n",
    "\n",
    "\n",
    "| trafffic | min  | max  | av |  \n",
    "|:---|---|---|---|\n",
    "| high  (13)| 13  |100   |   57.03|   \n",
    "| nuetral  (20)| 1  | 100  |  48.34 |   \n",
    "| low (4)|  0 |  25 |  12.55 |   \n",
    "[This is for 100 scooters]\n",
    "\n",
    "\n",
    "| trafffic | min  | max  | av |  \n",
    "|:---|---|---|---|\n",
    "| high  (13)|   7|20   |   13.08|   \n",
    "| nuetral  (20)| 0  | 20  |  10.6 |   \n",
    "| low (4)|  0 | 5  | 2.37  |   \n",
    "[This is for 20 scooters]"
   ]
  },
  {
   "cell_type": "code",
   "execution_count": 6,
   "metadata": {},
   "outputs": [
    {
     "name": "stdout",
     "output_type": "stream",
     "text": [
      "0 25 12.14\n"
     ]
    }
   ],
   "source": [
    "# have to rewrite minimum var from min to 'mini' below bc min is reserved \n",
    "hours, mini, max, av = 4, 100, 0, 0\n",
    "for i in range(1, 100):\n",
    "    store = calcDemand(100, hours)\n",
    "    if store < mini: mini = store\n",
    "    if store > max: max = store\n",
    "    av += store\n",
    "print(mini, max, av/100)"
   ]
  },
  {
   "cell_type": "markdown",
   "metadata": {},
   "source": [
    "## Caluculate average ride length of scooters used \n",
    "\n",
    "**factors the affect the ride length**\n",
    "- area of region (the higher the area the longer the ride)\n",
    "- demand (if there is more demand, chances are the rides are longer)\n",
    "\n",
    "**Ranges for inputs**\n",
    "- demand: from 10-70 ore more\n",
    "- areas: 200 - 2000 acres\n",
    "\n",
    "**returns average length scooters used for the hour with range (~10, ~60) min**\n",
    "- check the test methods below "
   ]
  },
  {
   "cell_type": "code",
   "execution_count": 7,
   "metadata": {},
   "outputs": [],
   "source": [
    "def calcRide(area):\n",
    "    return randint(int(area/60), int(area/60) + area%60)\n",
    "\n",
    "def calcAverageRide(area, demand):\n",
    "    av = 0\n",
    "    for i in range (0, demand): \n",
    "        av += calcRide (area);\n",
    "    return av/demand if demand > 0 else 0"
   ]
  },
  {
   "cell_type": "markdown",
   "metadata": {},
   "source": [
    "Test the method above with av demand of 30 scooters and area range 500-2k acres"
   ]
  },
  {
   "cell_type": "code",
   "execution_count": 8,
   "metadata": {},
   "outputs": [
    {
     "name": "stdout",
     "output_type": "stream",
     "text": [
      "17.566666666666666 37.0 43.86666666666667\n"
     ]
    }
   ],
   "source": [
    "print(calcAverageRide(500, 30), calcAverageRide(1000, 30), calcAverageRide(2000, 30))"
   ]
  },
  {
   "cell_type": "markdown",
   "metadata": {},
   "source": [
    "## Calc changes in average battery life of region from demand \n",
    "We came up with a simple formula in class. The whole point of the fucntion is to check how much battery goes down from sccoter usage \n",
    "\n",
    "### CASE STUD:\n",
    "lets say before method is called we have 20 scooters (s) in region with av battery life of 100 percent (c) \n",
    "- this means all the scooters in this regions is fully charged\n",
    "- if let's say the demand is only 1 scooter (t) and we say that scooter charge after use goes down 10 percent (d)  \n",
    "- then the average for all the scooters decreases by a little but exactly how much ?  \n",
    "<br/>\n",
    "- The new average battery life of the region can be calculted by finding... \n",
    "- **batt_not_used:** The av of scooters that were'nt used times the charge \n",
    "    - so 19\\*100 OR (s-t)\\*c = 1900\n",
    "- **batt_used:** the average of scooters that were used times the charge delta \n",
    "    - so 1\\*90 OR t(c-d) = 90\n",
    "- the new average of the region is thus \n",
    "    - (batt_not_used + batt_used) / s = (1900 + 90) / 20 = 99.5\n",
    "\n",
    "THE FORMULA\n",
    "- ((s-t)*c + t*(c- d)) / s\n",
    "    \n",
    "\n",
    "**Inputs range:**\n",
    "- state(as defined)\n",
    "- demand (same as inputs range for demand func) \n",
    "- av_length_of_use (same as inputs range for calcAvRide)"
   ]
  },
  {
   "cell_type": "code",
   "execution_count": 9,
   "metadata": {},
   "outputs": [],
   "source": [
    "def calcBattDelta(state, demand, av_length_of_use):\n",
    "    s = state.number_of_scooters \n",
    "    c = state.av_batt_life\n",
    "    t = demand\n",
    "    d - \n",
    "    \n",
    "    state.av_batt_life =  math.floor(((s-t)*c + t*(c- 10)) / s)\n",
    "        \n",
    "\n",
    "def sendTruck(state, hour):\n",
    "    state.send_truck = hour;"
   ]
  },
  {
   "cell_type": "code",
   "execution_count": 10,
   "metadata": {},
   "outputs": [],
   "source": [
    "def run_simulation(state, num_steps):     \n",
    "    results = TimeSeries()\n",
    "    for hour in range(num_steps):\n",
    "        #  this is our line in the sand to prevent calculating after our desired purpose for the model has been found\n",
    "        if(state.send_truck != -1):\n",
    "            return\n",
    "        step(state, hour)\n",
    "        results[hour] = state.av_batt_life"
   ]
  },
  {
   "cell_type": "code",
   "execution_count": 11,
   "metadata": {},
   "outputs": [
    {
     "data": {
      "text/html": [
       "<div>\n",
       "<style scoped>\n",
       "    .dataframe tbody tr th:only-of-type {\n",
       "        vertical-align: middle;\n",
       "    }\n",
       "\n",
       "    .dataframe tbody tr th {\n",
       "        vertical-align: top;\n",
       "    }\n",
       "\n",
       "    .dataframe thead th {\n",
       "        text-align: right;\n",
       "    }\n",
       "</style>\n",
       "<table border=\"1\" class=\"dataframe\">\n",
       "  <thead>\n",
       "    <tr style=\"text-align: right;\">\n",
       "      <th></th>\n",
       "      <th>values</th>\n",
       "    </tr>\n",
       "  </thead>\n",
       "  <tbody>\n",
       "    <tr>\n",
       "      <td>number_of_scooters</td>\n",
       "      <td>20</td>\n",
       "    </tr>\n",
       "    <tr>\n",
       "      <td>av_batt_life</td>\n",
       "      <td>14</td>\n",
       "    </tr>\n",
       "    <tr>\n",
       "      <td>size_of_region</td>\n",
       "      <td>3</td>\n",
       "    </tr>\n",
       "    <tr>\n",
       "      <td>send_truck</td>\n",
       "      <td>22</td>\n",
       "    </tr>\n",
       "  </tbody>\n",
       "</table>\n",
       "</div>"
      ],
      "text/plain": [
       "number_of_scooters    20\n",
       "av_batt_life          14\n",
       "size_of_region         3\n",
       "send_truck            22\n",
       "dtype: int64"
      ]
     },
     "execution_count": 11,
     "metadata": {},
     "output_type": "execute_result"
    }
   ],
   "source": [
    "limeshare = State(number_of_scooters = 20, av_batt_life = 100, size_of_region = 3, send_truck = -1)\n",
    "run_simulation(limeshare, 24)\n",
    "limeshare"
   ]
  },
  {
   "cell_type": "code",
   "execution_count": 12,
   "metadata": {},
   "outputs": [],
   "source": [
    "def runModel():\n",
    "#     tuple array ( size_of_region, send_truck) with fixed number_of_scooters at 20\n",
    "    regions = linspace(200, 2000, 10)\n",
    "    results = []\n",
    "    for i in regions:\n",
    "        limeshare = State(number_of_scooters = 20, av_batt_life = 100, size_of_region = round(i + 1), send_truck = -1)\n",
    "        run_simulation(limeshare, 24)\n",
    "        data = (limeshare.size_of_region, limeshare.send_truck)\n",
    "        results.append(data)\n",
    "    return results "
   ]
  },
  {
   "cell_type": "code",
   "execution_count": 13,
   "metadata": {},
   "outputs": [
    {
     "name": "stdout",
     "output_type": "stream",
     "text": [
      "[(201.0, 18.0), (401.0, 21.0), (601.0, 21.0), (801.0, 20.0), (1001.0, 21.0), (1201.0, 20.0), (1401.0, 20.0), (1601.0, 20.0), (1801.0, 20.0), (2001.0, 18.0)]\n"
     ]
    }
   ],
   "source": [
    "sample_regions = runModel()\n",
    "print(sample_regions)"
   ]
  },
  {
   "cell_type": "code",
   "execution_count": 14,
   "metadata": {},
   "outputs": [],
   "source": [
    "def runModel():\n",
    "#     tuple array (number_of_scooters, send_truck) with fixed size_of_region at 2\n",
    "    scooters = linspace(20, 70, 10)\n",
    "    results = []\n",
    "    for i in scooters:\n",
    "        limeshare = State(number_of_scooters = int(i), av_batt_life = 100, size_of_region = 1000, send_truck = -1)\n",
    "        run_simulation(limeshare, 24)\n",
    "        data = (limeshare.number_of_scooters, limeshare.send_truck)\n",
    "        results.append(data)\n",
    "    return results "
   ]
  },
  {
   "cell_type": "code",
   "execution_count": 15,
   "metadata": {},
   "outputs": [
    {
     "name": "stdout",
     "output_type": "stream",
     "text": [
      "[(20, 19), (25, 21), (31, 22), (36, 21), (42, 23), (47, 18), (53, 21), (58, 17), (64, 20), (70, 19)]\n"
     ]
    }
   ],
   "source": [
    "sample_scooters = runModel()\n",
    "print(sample_scooters)"
   ]
  },
  {
   "cell_type": "code",
   "execution_count": 16,
   "metadata": {},
   "outputs": [],
   "source": [
    "region_data = linspace(200, 2000, 10)\n"
   ]
  },
  {
   "cell_type": "code",
   "execution_count": 17,
   "metadata": {},
   "outputs": [],
   "source": [
    "scooter_data = linspace(20, 80, 10)"
   ]
  },
  {
   "cell_type": "code",
   "execution_count": 18,
   "metadata": {},
   "outputs": [],
   "source": [
    "truck_data = [[0 for x in region_data] for y in scooter_data] "
   ]
  },
  {
   "cell_type": "code",
   "execution_count": 19,
   "metadata": {},
   "outputs": [
    {
     "data": {
      "text/plain": [
       "[[20.0, 20.0, 21.0, 20.0, 23.0, 18.0, 20.0, 21.0, -1.0, -1.0],\n",
       " [-1.0, 21.0, 20.0, 21.0, 19.0, 22.0, -1.0, 21.0, -1.0, 17.0],\n",
       " [22.0, 21.0, 22.0, 21.0, 20.0, 19.0, 22.0, 22.0, -1.0, 21.0],\n",
       " [20.0, 20.0, 20.0, 22.0, 22.0, 22.0, 20.0, 20.0, -1.0, -1.0],\n",
       " [20.0, 22.0, 20.0, 22.0, 20.0, 21.0, 20.0, 20.0, -1.0, 20.0],\n",
       " [21.0, -1.0, 22.0, -1.0, 17.0, 20.0, 20.0, 20.0, 20.0, -1.0],\n",
       " [20.0, 21.0, 20.0, 21.0, 23.0, 23.0, -1.0, -1.0, 21.0, 20.0],\n",
       " [22.0, 20.0, 17.0, 21.0, 22.0, 22.0, 21.0, 22.0, 21.0, 18.0],\n",
       " [21.0, 20.0, 21.0, -1.0, 21.0, 20.0, 23.0, 18.0, 23.0, -1.0],\n",
       " [20.0, 20.0, 23.0, -1.0, 21.0, 22.0, 17.0, 21.0, 21.0, 19.0]]"
      ]
     },
     "execution_count": 19,
     "metadata": {},
     "output_type": "execute_result"
    }
   ],
   "source": [
    "def runModel():\n",
    "    for row, reigon in enumerate(region_data):\n",
    "        for col, scooters in enumerate(scooter_data):\n",
    "            limeshare = State(number_of_scooters = round(scooters), av_batt_life = 100, size_of_region = round(reigon), send_truck = -1)\n",
    "            run_simulation(limeshare, 24)\n",
    "            truck_data[row][col] = limeshare.send_truck\n",
    "\n",
    "runModel()\n",
    "truck_data"
   ]
  },
  {
   "cell_type": "code",
   "execution_count": 20,
   "metadata": {},
   "outputs": [],
   "source": [
    "# My reaction when the above code printed \"HOLY SHIT!\""
   ]
  },
  {
   "cell_type": "code",
   "execution_count": 21,
   "metadata": {},
   "outputs": [
    {
     "data": {
      "text/html": [
       "<div>\n",
       "<style scoped>\n",
       "    .dataframe tbody tr th:only-of-type {\n",
       "        vertical-align: middle;\n",
       "    }\n",
       "\n",
       "    .dataframe tbody tr th {\n",
       "        vertical-align: top;\n",
       "    }\n",
       "\n",
       "    .dataframe thead th {\n",
       "        text-align: right;\n",
       "    }\n",
       "</style>\n",
       "<table border=\"1\" class=\"dataframe\">\n",
       "  <thead>\n",
       "    <tr style=\"text-align: right;\">\n",
       "      <th></th>\n",
       "      <th>20.00</th>\n",
       "      <th>26.67</th>\n",
       "      <th>33.33</th>\n",
       "      <th>40.00</th>\n",
       "      <th>46.67</th>\n",
       "      <th>53.33</th>\n",
       "      <th>60.00</th>\n",
       "      <th>66.67</th>\n",
       "      <th>73.33</th>\n",
       "      <th>80.00</th>\n",
       "    </tr>\n",
       "  </thead>\n",
       "  <tbody>\n",
       "    <tr>\n",
       "      <td>200.0</td>\n",
       "      <td>20.0</td>\n",
       "      <td>20.0</td>\n",
       "      <td>21.0</td>\n",
       "      <td>20.0</td>\n",
       "      <td>23.0</td>\n",
       "      <td>18.0</td>\n",
       "      <td>20.0</td>\n",
       "      <td>21.0</td>\n",
       "      <td>-1.0</td>\n",
       "      <td>-1.0</td>\n",
       "    </tr>\n",
       "    <tr>\n",
       "      <td>400.0</td>\n",
       "      <td>-1.0</td>\n",
       "      <td>21.0</td>\n",
       "      <td>20.0</td>\n",
       "      <td>21.0</td>\n",
       "      <td>19.0</td>\n",
       "      <td>22.0</td>\n",
       "      <td>-1.0</td>\n",
       "      <td>21.0</td>\n",
       "      <td>-1.0</td>\n",
       "      <td>17.0</td>\n",
       "    </tr>\n",
       "    <tr>\n",
       "      <td>600.0</td>\n",
       "      <td>22.0</td>\n",
       "      <td>21.0</td>\n",
       "      <td>22.0</td>\n",
       "      <td>21.0</td>\n",
       "      <td>20.0</td>\n",
       "      <td>19.0</td>\n",
       "      <td>22.0</td>\n",
       "      <td>22.0</td>\n",
       "      <td>-1.0</td>\n",
       "      <td>21.0</td>\n",
       "    </tr>\n",
       "    <tr>\n",
       "      <td>800.0</td>\n",
       "      <td>20.0</td>\n",
       "      <td>20.0</td>\n",
       "      <td>20.0</td>\n",
       "      <td>22.0</td>\n",
       "      <td>22.0</td>\n",
       "      <td>22.0</td>\n",
       "      <td>20.0</td>\n",
       "      <td>20.0</td>\n",
       "      <td>-1.0</td>\n",
       "      <td>-1.0</td>\n",
       "    </tr>\n",
       "    <tr>\n",
       "      <td>1000.0</td>\n",
       "      <td>20.0</td>\n",
       "      <td>22.0</td>\n",
       "      <td>20.0</td>\n",
       "      <td>22.0</td>\n",
       "      <td>20.0</td>\n",
       "      <td>21.0</td>\n",
       "      <td>20.0</td>\n",
       "      <td>20.0</td>\n",
       "      <td>-1.0</td>\n",
       "      <td>20.0</td>\n",
       "    </tr>\n",
       "    <tr>\n",
       "      <td>1200.0</td>\n",
       "      <td>21.0</td>\n",
       "      <td>-1.0</td>\n",
       "      <td>22.0</td>\n",
       "      <td>-1.0</td>\n",
       "      <td>17.0</td>\n",
       "      <td>20.0</td>\n",
       "      <td>20.0</td>\n",
       "      <td>20.0</td>\n",
       "      <td>20.0</td>\n",
       "      <td>-1.0</td>\n",
       "    </tr>\n",
       "    <tr>\n",
       "      <td>1400.0</td>\n",
       "      <td>20.0</td>\n",
       "      <td>21.0</td>\n",
       "      <td>20.0</td>\n",
       "      <td>21.0</td>\n",
       "      <td>23.0</td>\n",
       "      <td>23.0</td>\n",
       "      <td>-1.0</td>\n",
       "      <td>-1.0</td>\n",
       "      <td>21.0</td>\n",
       "      <td>20.0</td>\n",
       "    </tr>\n",
       "    <tr>\n",
       "      <td>1600.0</td>\n",
       "      <td>22.0</td>\n",
       "      <td>20.0</td>\n",
       "      <td>17.0</td>\n",
       "      <td>21.0</td>\n",
       "      <td>22.0</td>\n",
       "      <td>22.0</td>\n",
       "      <td>21.0</td>\n",
       "      <td>22.0</td>\n",
       "      <td>21.0</td>\n",
       "      <td>18.0</td>\n",
       "    </tr>\n",
       "    <tr>\n",
       "      <td>1800.0</td>\n",
       "      <td>21.0</td>\n",
       "      <td>20.0</td>\n",
       "      <td>21.0</td>\n",
       "      <td>-1.0</td>\n",
       "      <td>21.0</td>\n",
       "      <td>20.0</td>\n",
       "      <td>23.0</td>\n",
       "      <td>18.0</td>\n",
       "      <td>23.0</td>\n",
       "      <td>-1.0</td>\n",
       "    </tr>\n",
       "    <tr>\n",
       "      <td>2000.0</td>\n",
       "      <td>20.0</td>\n",
       "      <td>20.0</td>\n",
       "      <td>23.0</td>\n",
       "      <td>-1.0</td>\n",
       "      <td>21.0</td>\n",
       "      <td>22.0</td>\n",
       "      <td>17.0</td>\n",
       "      <td>21.0</td>\n",
       "      <td>21.0</td>\n",
       "      <td>19.0</td>\n",
       "    </tr>\n",
       "  </tbody>\n",
       "</table>\n",
       "</div>"
      ],
      "text/plain": [
       "        20.00  26.67  33.33  40.00  46.67  53.33  60.00  66.67  73.33  80.00\n",
       "200.0    20.0   20.0   21.0   20.0   23.0   18.0   20.0   21.0   -1.0   -1.0\n",
       "400.0    -1.0   21.0   20.0   21.0   19.0   22.0   -1.0   21.0   -1.0   17.0\n",
       "600.0    22.0   21.0   22.0   21.0   20.0   19.0   22.0   22.0   -1.0   21.0\n",
       "800.0    20.0   20.0   20.0   22.0   22.0   22.0   20.0   20.0   -1.0   -1.0\n",
       "1000.0   20.0   22.0   20.0   22.0   20.0   21.0   20.0   20.0   -1.0   20.0\n",
       "1200.0   21.0   -1.0   22.0   -1.0   17.0   20.0   20.0   20.0   20.0   -1.0\n",
       "1400.0   20.0   21.0   20.0   21.0   23.0   23.0   -1.0   -1.0   21.0   20.0\n",
       "1600.0   22.0   20.0   17.0   21.0   22.0   22.0   21.0   22.0   21.0   18.0\n",
       "1800.0   21.0   20.0   21.0   -1.0   21.0   20.0   23.0   18.0   23.0   -1.0\n",
       "2000.0   20.0   20.0   23.0   -1.0   21.0   22.0   17.0   21.0   21.0   19.0"
      ]
     },
     "execution_count": 21,
     "metadata": {},
     "output_type": "execute_result"
    }
   ],
   "source": [
    "new_dataFrame = pd.DataFrame(data=truck_data, index=round(region_data, 2), columns=round(scooter_data, 2))\n",
    "new_dataFrame"
   ]
  },
  {
   "cell_type": "code",
   "execution_count": null,
   "metadata": {},
   "outputs": [],
   "source": []
  }
 ],
 "metadata": {
  "kernelspec": {
   "display_name": "Python 3",
   "language": "python",
   "name": "python3"
  },
  "language_info": {
   "codemirror_mode": {
    "name": "ipython",
    "version": 3
   },
   "file_extension": ".py",
   "mimetype": "text/x-python",
   "name": "python",
   "nbconvert_exporter": "python",
   "pygments_lexer": "ipython3",
   "version": "3.7.4"
  }
 },
 "nbformat": 4,
 "nbformat_minor": 2
}
