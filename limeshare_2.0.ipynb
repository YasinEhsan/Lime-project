{
 "cells": [
  {
   "cell_type": "code",
   "execution_count": 422,
   "metadata": {},
   "outputs": [],
   "source": [
    "from modsim import *\n",
    "import math\n",
    "import pandas as pd\n",
    "from random import randint "
   ]
  },
  {
   "cell_type": "markdown",
   "metadata": {},
   "source": [
    "# LIMESHARE \n",
    "\n",
    "- limeshare is...\n",
    "\n",
    "\n",
    "**Below is our state with attributes:**\n",
    "- number_of_scooters: \n",
    "- av_batt_life:\n",
    "- size_of_region:\n",
    "- send_truck:"
   ]
  },
  {
   "cell_type": "code",
   "execution_count": 442,
   "metadata": {},
   "outputs": [
    {
     "data": {
      "text/html": [
       "<div>\n",
       "<style scoped>\n",
       "    .dataframe tbody tr th:only-of-type {\n",
       "        vertical-align: middle;\n",
       "    }\n",
       "\n",
       "    .dataframe tbody tr th {\n",
       "        vertical-align: top;\n",
       "    }\n",
       "\n",
       "    .dataframe thead th {\n",
       "        text-align: right;\n",
       "    }\n",
       "</style>\n",
       "<table border=\"1\" class=\"dataframe\">\n",
       "  <thead>\n",
       "    <tr style=\"text-align: right;\">\n",
       "      <th></th>\n",
       "      <th>values</th>\n",
       "    </tr>\n",
       "  </thead>\n",
       "  <tbody>\n",
       "    <tr>\n",
       "      <td>number_of_scooters</td>\n",
       "      <td>20</td>\n",
       "    </tr>\n",
       "    <tr>\n",
       "      <td>av_batt_life</td>\n",
       "      <td>100</td>\n",
       "    </tr>\n",
       "    <tr>\n",
       "      <td>size_of_region</td>\n",
       "      <td>2</td>\n",
       "    </tr>\n",
       "    <tr>\n",
       "      <td>send_truck</td>\n",
       "      <td>-1</td>\n",
       "    </tr>\n",
       "  </tbody>\n",
       "</table>\n",
       "</div>"
      ],
      "text/plain": [
       "number_of_scooters     20\n",
       "av_batt_life          100\n",
       "size_of_region          2\n",
       "send_truck             -1\n",
       "dtype: int64"
      ]
     },
     "execution_count": 442,
     "metadata": {},
     "output_type": "execute_result"
    }
   ],
   "source": [
    "limeshare = State(number_of_scooters = 20, av_batt_life = 100, size_of_region = 2, send_truck = -1)\n",
    "limeshare"
   ]
  },
  {
   "cell_type": "code",
   "execution_count": 443,
   "metadata": {},
   "outputs": [],
   "source": [
    "def step(state, hour):\n",
    "#     find number of users per hour\n",
    "    demand = 15\n",
    "#     calcDemand(state.number_of_scooters, hour)\n",
    "    \n",
    "#     find the average ride length per rider from demand\n",
    "    length_of_use = calcAverageRide(state.size_of_region, demand)\n",
    "    \n",
    "#     calc change in battery \n",
    "    calcBattDelta(state, demand, 10)\n",
    "#     length_of_use\n",
    "    \n",
    "#     find hour to send truck\n",
    "    if(state.av_batt_life < 20 and state.send_truck == -1):\n",
    "        sendTruck(state, hour)\n"
   ]
  },
  {
   "cell_type": "markdown",
   "metadata": {},
   "source": [
    "## Calculate demand for scooters based on: \n",
    "- traffic times \n",
    "    - HIGH : going to work (8-10pm), lunch time (12-2pm), going home (4-6pm)\n",
    "    - NUETRAL : early birds (6-8am), night outs (8pm-11pm)\n",
    "    - LOW : all remaining times\n",
    "- scooters in the area (this is a hard max) \n",
    "- randomize using round (say bad weather hour)\n",
    "\n",
    "*Returns num of scooters*"
   ]
  },
  {
   "cell_type": "code",
   "execution_count": 425,
   "metadata": {},
   "outputs": [],
   "source": [
    "def calcDemand(scooters, hour):\n",
    "    if hour >= 8 and hour < 10 or hour >= 12 and hour < 14 or hour >= 16 and hour < 18:\n",
    "        return randint(int(scooters/hour) + int(hour/2), scooters)\n",
    "    elif hour == 6 or hour == 7 or hour >= 20 and hour < 23:  \n",
    "        return randint(scooters%(hour/2), scooters)\n",
    "    else: \n",
    "        if hour == 0:\n",
    "            return randint(hour, int(scooters/4))\n",
    "        else:\n",
    "            return randint(int(hour/6), int(scooters/4))"
   ]
  },
  {
   "cell_type": "markdown",
   "metadata": {},
   "source": [
    "**The following code is used to test ideal hour ranges for our function above with demand.**\n",
    "- the goal was to have a higher min for high traffic times accounting for hour and sccoter amounts range(20-100)\n",
    "\n",
    "\n",
    "| trafffic | min  | max  | av |  \n",
    "|:---|---|---|---|\n",
    "| high  (13)| 13  |100   |   57.03|   \n",
    "| nuetral  (20)| 1  | 100  |  48.34 |   \n",
    "| low (4)|  0 |  25 |  12.55 |   \n",
    "[This is for 100 scooters]\n",
    "\n",
    "\n",
    "| trafffic | min  | max  | av |  \n",
    "|:---|---|---|---|\n",
    "| high  (13)|   7|20   |   13.08|   \n",
    "| nuetral  (20)| 0  | 20  |  10.6 |   \n",
    "| low (4)|  0 | 5  | 2.37  |   \n",
    "[This is for 20 scooters]"
   ]
  },
  {
   "cell_type": "code",
   "execution_count": 426,
   "metadata": {},
   "outputs": [
    {
     "name": "stdout",
     "output_type": "stream",
     "text": [
      "0 25 12.75\n"
     ]
    }
   ],
   "source": [
    "# have to rewrite minimum var from min to 'mini' below bc min is reserved \n",
    "hours, mini, max, av = 4, 100, 0, 0\n",
    "for i in range(1, 100):\n",
    "    store = calcDemand(100, hours)\n",
    "    if store < mini: mini = store\n",
    "    if store > max: max = store\n",
    "    av += store\n",
    "print(mini, max, av/100)"
   ]
  },
  {
   "cell_type": "markdown",
   "metadata": {},
   "source": [
    "## Caluculate average ride length of scooters used \n",
    "- we are assuming that the user picks up a scooter — at worst — at the begining of the hour and returns it by the end of the hour \n",
    "- the average length per scooter ride thus is a range from 0 - 60 minutes \n",
    "\n",
    "**factors the affect the ride length**\n",
    "- area of region (the higher the area the longer the ride)\n",
    "- demand (if there is more demand, chances are the rides are longer)\n",
    "\n",
    "*returns a number between 0-60*"
   ]
  },
  {
   "cell_type": "code",
   "execution_count": 427,
   "metadata": {},
   "outputs": [],
   "source": [
    "def calcRide(area, demand):\n",
    "    lower_bound = 1\n",
    "    upper_bound = 5\n",
    "    return randint(lower_bound, upper_bound)\n",
    "\n",
    "def calcAverageRide(area, demand):\n",
    "    av = 0\n",
    "    for i in range (0, demand): \n",
    "        av += calcRide (area, demand);\n",
    "    return av/demand"
   ]
  },
  {
   "cell_type": "markdown",
   "metadata": {},
   "source": [
    "Test the method above with av demand of 20 and area range 2,3,7 (square miles)"
   ]
  },
  {
   "cell_type": "code",
   "execution_count": 428,
   "metadata": {},
   "outputs": [
    {
     "data": {
      "text/plain": [
       "3.3"
      ]
     },
     "execution_count": 428,
     "metadata": {},
     "output_type": "execute_result"
    }
   ],
   "source": [
    "calcAverageRide(2, 20)\n",
    "calcAverageRide(3, 20)\n",
    "calcAverageRide(7, 20)"
   ]
  },
  {
   "cell_type": "code",
   "execution_count": 429,
   "metadata": {},
   "outputs": [],
   "source": [
    "def calcBattDelta(state, demand, av_length_of_use):\n",
    "    s = state.number_of_scooters \n",
    "    c = state.av_batt_life\n",
    "    t = demand\n",
    "    \n",
    "    state.av_batt_life =  math.floor(((s-t)*c + t*(c- av_length_of_use)) / s)\n",
    "        \n",
    "\n",
    "def sendTruck(state, hour):\n",
    "    state.send_truck = hour;"
   ]
  },
  {
   "cell_type": "code",
   "execution_count": 430,
   "metadata": {},
   "outputs": [],
   "source": [
    "def run_simulation(state, num_steps):     \n",
    "    results = TimeSeries()\n",
    "    for hour in range(num_steps):\n",
    "        #  this is our line in the sand to prevent calculating after our desired purpose for the model has been found\n",
    "        if(state.send_truck != -1):\n",
    "            return\n",
    "        step(state, hour)\n",
    "        results[hour] = state.av_batt_life"
   ]
  },
  {
   "cell_type": "code",
   "execution_count": 431,
   "metadata": {},
   "outputs": [
    {
     "data": {
      "text/html": [
       "<div>\n",
       "<style scoped>\n",
       "    .dataframe tbody tr th:only-of-type {\n",
       "        vertical-align: middle;\n",
       "    }\n",
       "\n",
       "    .dataframe tbody tr th {\n",
       "        vertical-align: top;\n",
       "    }\n",
       "\n",
       "    .dataframe thead th {\n",
       "        text-align: right;\n",
       "    }\n",
       "</style>\n",
       "<table border=\"1\" class=\"dataframe\">\n",
       "  <thead>\n",
       "    <tr style=\"text-align: right;\">\n",
       "      <th></th>\n",
       "      <th>values</th>\n",
       "    </tr>\n",
       "  </thead>\n",
       "  <tbody>\n",
       "    <tr>\n",
       "      <td>number_of_scooters</td>\n",
       "      <td>20</td>\n",
       "    </tr>\n",
       "    <tr>\n",
       "      <td>av_batt_life</td>\n",
       "      <td>12</td>\n",
       "    </tr>\n",
       "    <tr>\n",
       "      <td>size_of_region</td>\n",
       "      <td>3</td>\n",
       "    </tr>\n",
       "    <tr>\n",
       "      <td>send_truck</td>\n",
       "      <td>10</td>\n",
       "    </tr>\n",
       "  </tbody>\n",
       "</table>\n",
       "</div>"
      ],
      "text/plain": [
       "number_of_scooters    20\n",
       "av_batt_life          12\n",
       "size_of_region         3\n",
       "send_truck            10\n",
       "dtype: int64"
      ]
     },
     "execution_count": 431,
     "metadata": {},
     "output_type": "execute_result"
    }
   ],
   "source": [
    "limeshare = State(number_of_scooters = 20, av_batt_life = 100, size_of_region = 3, send_truck = -1)\n",
    "run_simulation(limeshare, 24)\n",
    "limeshare"
   ]
  },
  {
   "cell_type": "code",
   "execution_count": 432,
   "metadata": {},
   "outputs": [],
   "source": [
    "def runModel():\n",
    "#     tuple array ( size_of_region, send_truck) with fixed number_of_scooters at 20\n",
    "    regions = linspace(1, 5, 10)\n",
    "    results = []\n",
    "    for i in regions:\n",
    "        limeshare = State(number_of_scooters = 20, av_batt_life = 100, size_of_region = round(i + 1, 2), send_truck = -1)\n",
    "        run_simulation(limeshare, 24)\n",
    "        data = (limeshare.size_of_region, limeshare.send_truck)\n",
    "        results.append(data)\n",
    "    return results "
   ]
  },
  {
   "cell_type": "code",
   "execution_count": 433,
   "metadata": {},
   "outputs": [
    {
     "data": {
      "text/plain": [
       "[(2.0, 10.0),\n",
       " (2.44, 10.0),\n",
       " (2.89, 10.0),\n",
       " (3.33, 10.0),\n",
       " (3.78, 10.0),\n",
       " (4.22, 10.0),\n",
       " (4.67, 10.0),\n",
       " (5.11, 10.0),\n",
       " (5.56, 10.0),\n",
       " (6.0, 10.0)]"
      ]
     },
     "execution_count": 433,
     "metadata": {},
     "output_type": "execute_result"
    }
   ],
   "source": [
    "sample_regions = runModel()"
   ]
  },
  {
   "cell_type": "code",
   "execution_count": 434,
   "metadata": {},
   "outputs": [],
   "source": [
    "def runModel():\n",
    "#     tuple array (number_of_scooters, send_truck) with fixed size_of_region at 2\n",
    "    scooters = linspace(20, 70, 10)\n",
    "    results = []\n",
    "    for i in scooters:\n",
    "        limeshare = State(number_of_scooters = int(i), av_batt_life = 100, size_of_region = 2, send_truck = -1)\n",
    "        run_simulation(limeshare, 24)\n",
    "        data = (limeshare.number_of_scooters, limeshare.send_truck)\n",
    "        results.append(data)\n",
    "    return results "
   ]
  },
  {
   "cell_type": "code",
   "execution_count": 435,
   "metadata": {},
   "outputs": [
    {
     "data": {
      "text/plain": [
       "[(20, 10),\n",
       " (25, 13),\n",
       " (31, 16),\n",
       " (36, 16),\n",
       " (42, 20),\n",
       " (47, 20),\n",
       " (53, -1),\n",
       " (58, -1),\n",
       " (64, -1),\n",
       " (70, -1)]"
      ]
     },
     "execution_count": 435,
     "metadata": {},
     "output_type": "execute_result"
    }
   ],
   "source": [
    "sample_scooters = runModel()"
   ]
  },
  {
   "cell_type": "code",
   "execution_count": 436,
   "metadata": {},
   "outputs": [
    {
     "data": {
      "text/plain": [
       "array([1.        , 1.44444444, 1.88888889, 2.33333333, 2.77777778,\n",
       "       3.22222222, 3.66666667, 4.11111111, 4.55555556, 5.        ])"
      ]
     },
     "execution_count": 436,
     "metadata": {},
     "output_type": "execute_result"
    }
   ],
   "source": [
    "region_data = linspace(1, 5, 10)\n"
   ]
  },
  {
   "cell_type": "code",
   "execution_count": 437,
   "metadata": {},
   "outputs": [
    {
     "data": {
      "text/plain": [
       "array([20.        , 26.66666667, 33.33333333, 40.        , 46.66666667,\n",
       "       53.33333333, 60.        , 66.66666667, 73.33333333, 80.        ])"
      ]
     },
     "execution_count": 437,
     "metadata": {},
     "output_type": "execute_result"
    }
   ],
   "source": [
    "scooter_data = linspace(20, 80, 10)"
   ]
  },
  {
   "cell_type": "code",
   "execution_count": 438,
   "metadata": {},
   "outputs": [
    {
     "data": {
      "text/plain": [
       "[[0, 0, 0, 0, 0, 0, 0, 0, 0, 0],\n",
       " [0, 0, 0, 0, 0, 0, 0, 0, 0, 0],\n",
       " [0, 0, 0, 0, 0, 0, 0, 0, 0, 0],\n",
       " [0, 0, 0, 0, 0, 0, 0, 0, 0, 0],\n",
       " [0, 0, 0, 0, 0, 0, 0, 0, 0, 0],\n",
       " [0, 0, 0, 0, 0, 0, 0, 0, 0, 0],\n",
       " [0, 0, 0, 0, 0, 0, 0, 0, 0, 0],\n",
       " [0, 0, 0, 0, 0, 0, 0, 0, 0, 0],\n",
       " [0, 0, 0, 0, 0, 0, 0, 0, 0, 0],\n",
       " [0, 0, 0, 0, 0, 0, 0, 0, 0, 0]]"
      ]
     },
     "execution_count": 438,
     "metadata": {},
     "output_type": "execute_result"
    }
   ],
   "source": [
    "truck_data = [[0 for x in region_data] for y in scooter_data] "
   ]
  },
  {
   "cell_type": "code",
   "execution_count": 439,
   "metadata": {},
   "outputs": [
    {
     "data": {
      "text/plain": [
       "[[10.0, 13.0, 16.0, 20.0, 20.0, -1.0, -1.0, -1.0, -1.0, -1.0],\n",
       " [10.0, 13.0, 16.0, 20.0, 20.0, -1.0, -1.0, -1.0, -1.0, -1.0],\n",
       " [10.0, 13.0, 16.0, 20.0, 20.0, -1.0, -1.0, -1.0, -1.0, -1.0],\n",
       " [10.0, 13.0, 16.0, 20.0, 20.0, -1.0, -1.0, -1.0, -1.0, -1.0],\n",
       " [10.0, 13.0, 16.0, 20.0, 20.0, -1.0, -1.0, -1.0, -1.0, -1.0],\n",
       " [10.0, 13.0, 16.0, 20.0, 20.0, -1.0, -1.0, -1.0, -1.0, -1.0],\n",
       " [10.0, 13.0, 16.0, 20.0, 20.0, -1.0, -1.0, -1.0, -1.0, -1.0],\n",
       " [10.0, 13.0, 16.0, 20.0, 20.0, -1.0, -1.0, -1.0, -1.0, -1.0],\n",
       " [10.0, 13.0, 16.0, 20.0, 20.0, -1.0, -1.0, -1.0, -1.0, -1.0],\n",
       " [10.0, 13.0, 16.0, 20.0, 20.0, -1.0, -1.0, -1.0, -1.0, -1.0]]"
      ]
     },
     "execution_count": 439,
     "metadata": {},
     "output_type": "execute_result"
    }
   ],
   "source": [
    "def runModel():\n",
    "    for row, reigon in enumerate(region_data):\n",
    "        for col, scooters in enumerate(scooter_data):\n",
    "            limeshare = State(number_of_scooters = scooters, av_batt_life = 100, size_of_region = reigon, send_truck = -1)\n",
    "            run_simulation(limeshare, 24)\n",
    "            truck_data[row][col] = limeshare.send_truck\n",
    "\n",
    "runModel()\n",
    "truck_data"
   ]
  },
  {
   "cell_type": "code",
   "execution_count": 440,
   "metadata": {},
   "outputs": [],
   "source": [
    "# My reaction when the above code printed \"HOLY SHIT!\""
   ]
  },
  {
   "cell_type": "code",
   "execution_count": 441,
   "metadata": {},
   "outputs": [
    {
     "data": {
      "text/html": [
       "<div>\n",
       "<style scoped>\n",
       "    .dataframe tbody tr th:only-of-type {\n",
       "        vertical-align: middle;\n",
       "    }\n",
       "\n",
       "    .dataframe tbody tr th {\n",
       "        vertical-align: top;\n",
       "    }\n",
       "\n",
       "    .dataframe thead th {\n",
       "        text-align: right;\n",
       "    }\n",
       "</style>\n",
       "<table border=\"1\" class=\"dataframe\">\n",
       "  <thead>\n",
       "    <tr style=\"text-align: right;\">\n",
       "      <th></th>\n",
       "      <th>20.00</th>\n",
       "      <th>26.67</th>\n",
       "      <th>33.33</th>\n",
       "      <th>40.00</th>\n",
       "      <th>46.67</th>\n",
       "      <th>53.33</th>\n",
       "      <th>60.00</th>\n",
       "      <th>66.67</th>\n",
       "      <th>73.33</th>\n",
       "      <th>80.00</th>\n",
       "    </tr>\n",
       "  </thead>\n",
       "  <tbody>\n",
       "    <tr>\n",
       "      <td>1.00</td>\n",
       "      <td>10.0</td>\n",
       "      <td>13.0</td>\n",
       "      <td>16.0</td>\n",
       "      <td>20.0</td>\n",
       "      <td>20.0</td>\n",
       "      <td>-1.0</td>\n",
       "      <td>-1.0</td>\n",
       "      <td>-1.0</td>\n",
       "      <td>-1.0</td>\n",
       "      <td>-1.0</td>\n",
       "    </tr>\n",
       "    <tr>\n",
       "      <td>1.44</td>\n",
       "      <td>10.0</td>\n",
       "      <td>13.0</td>\n",
       "      <td>16.0</td>\n",
       "      <td>20.0</td>\n",
       "      <td>20.0</td>\n",
       "      <td>-1.0</td>\n",
       "      <td>-1.0</td>\n",
       "      <td>-1.0</td>\n",
       "      <td>-1.0</td>\n",
       "      <td>-1.0</td>\n",
       "    </tr>\n",
       "    <tr>\n",
       "      <td>1.89</td>\n",
       "      <td>10.0</td>\n",
       "      <td>13.0</td>\n",
       "      <td>16.0</td>\n",
       "      <td>20.0</td>\n",
       "      <td>20.0</td>\n",
       "      <td>-1.0</td>\n",
       "      <td>-1.0</td>\n",
       "      <td>-1.0</td>\n",
       "      <td>-1.0</td>\n",
       "      <td>-1.0</td>\n",
       "    </tr>\n",
       "    <tr>\n",
       "      <td>2.33</td>\n",
       "      <td>10.0</td>\n",
       "      <td>13.0</td>\n",
       "      <td>16.0</td>\n",
       "      <td>20.0</td>\n",
       "      <td>20.0</td>\n",
       "      <td>-1.0</td>\n",
       "      <td>-1.0</td>\n",
       "      <td>-1.0</td>\n",
       "      <td>-1.0</td>\n",
       "      <td>-1.0</td>\n",
       "    </tr>\n",
       "    <tr>\n",
       "      <td>2.78</td>\n",
       "      <td>10.0</td>\n",
       "      <td>13.0</td>\n",
       "      <td>16.0</td>\n",
       "      <td>20.0</td>\n",
       "      <td>20.0</td>\n",
       "      <td>-1.0</td>\n",
       "      <td>-1.0</td>\n",
       "      <td>-1.0</td>\n",
       "      <td>-1.0</td>\n",
       "      <td>-1.0</td>\n",
       "    </tr>\n",
       "    <tr>\n",
       "      <td>3.22</td>\n",
       "      <td>10.0</td>\n",
       "      <td>13.0</td>\n",
       "      <td>16.0</td>\n",
       "      <td>20.0</td>\n",
       "      <td>20.0</td>\n",
       "      <td>-1.0</td>\n",
       "      <td>-1.0</td>\n",
       "      <td>-1.0</td>\n",
       "      <td>-1.0</td>\n",
       "      <td>-1.0</td>\n",
       "    </tr>\n",
       "    <tr>\n",
       "      <td>3.67</td>\n",
       "      <td>10.0</td>\n",
       "      <td>13.0</td>\n",
       "      <td>16.0</td>\n",
       "      <td>20.0</td>\n",
       "      <td>20.0</td>\n",
       "      <td>-1.0</td>\n",
       "      <td>-1.0</td>\n",
       "      <td>-1.0</td>\n",
       "      <td>-1.0</td>\n",
       "      <td>-1.0</td>\n",
       "    </tr>\n",
       "    <tr>\n",
       "      <td>4.11</td>\n",
       "      <td>10.0</td>\n",
       "      <td>13.0</td>\n",
       "      <td>16.0</td>\n",
       "      <td>20.0</td>\n",
       "      <td>20.0</td>\n",
       "      <td>-1.0</td>\n",
       "      <td>-1.0</td>\n",
       "      <td>-1.0</td>\n",
       "      <td>-1.0</td>\n",
       "      <td>-1.0</td>\n",
       "    </tr>\n",
       "    <tr>\n",
       "      <td>4.56</td>\n",
       "      <td>10.0</td>\n",
       "      <td>13.0</td>\n",
       "      <td>16.0</td>\n",
       "      <td>20.0</td>\n",
       "      <td>20.0</td>\n",
       "      <td>-1.0</td>\n",
       "      <td>-1.0</td>\n",
       "      <td>-1.0</td>\n",
       "      <td>-1.0</td>\n",
       "      <td>-1.0</td>\n",
       "    </tr>\n",
       "    <tr>\n",
       "      <td>5.00</td>\n",
       "      <td>10.0</td>\n",
       "      <td>13.0</td>\n",
       "      <td>16.0</td>\n",
       "      <td>20.0</td>\n",
       "      <td>20.0</td>\n",
       "      <td>-1.0</td>\n",
       "      <td>-1.0</td>\n",
       "      <td>-1.0</td>\n",
       "      <td>-1.0</td>\n",
       "      <td>-1.0</td>\n",
       "    </tr>\n",
       "  </tbody>\n",
       "</table>\n",
       "</div>"
      ],
      "text/plain": [
       "      20.00  26.67  33.33  40.00  46.67  53.33  60.00  66.67  73.33  80.00\n",
       "1.00   10.0   13.0   16.0   20.0   20.0   -1.0   -1.0   -1.0   -1.0   -1.0\n",
       "1.44   10.0   13.0   16.0   20.0   20.0   -1.0   -1.0   -1.0   -1.0   -1.0\n",
       "1.89   10.0   13.0   16.0   20.0   20.0   -1.0   -1.0   -1.0   -1.0   -1.0\n",
       "2.33   10.0   13.0   16.0   20.0   20.0   -1.0   -1.0   -1.0   -1.0   -1.0\n",
       "2.78   10.0   13.0   16.0   20.0   20.0   -1.0   -1.0   -1.0   -1.0   -1.0\n",
       "3.22   10.0   13.0   16.0   20.0   20.0   -1.0   -1.0   -1.0   -1.0   -1.0\n",
       "3.67   10.0   13.0   16.0   20.0   20.0   -1.0   -1.0   -1.0   -1.0   -1.0\n",
       "4.11   10.0   13.0   16.0   20.0   20.0   -1.0   -1.0   -1.0   -1.0   -1.0\n",
       "4.56   10.0   13.0   16.0   20.0   20.0   -1.0   -1.0   -1.0   -1.0   -1.0\n",
       "5.00   10.0   13.0   16.0   20.0   20.0   -1.0   -1.0   -1.0   -1.0   -1.0"
      ]
     },
     "execution_count": 441,
     "metadata": {},
     "output_type": "execute_result"
    }
   ],
   "source": [
    "new_dataFrame = pd.DataFrame(data=truck_data, index=round(region_data, 2), columns=round(scooter_data, 2))\n",
    "new_dataFrame"
   ]
  },
  {
   "cell_type": "code",
   "execution_count": null,
   "metadata": {},
   "outputs": [],
   "source": []
  }
 ],
 "metadata": {
  "kernelspec": {
   "display_name": "Python 3",
   "language": "python",
   "name": "python3"
  },
  "language_info": {
   "codemirror_mode": {
    "name": "ipython",
    "version": 3
   },
   "file_extension": ".py",
   "mimetype": "text/x-python",
   "name": "python",
   "nbconvert_exporter": "python",
   "pygments_lexer": "ipython3",
   "version": "3.7.4"
  }
 },
 "nbformat": 4,
 "nbformat_minor": 2
}
