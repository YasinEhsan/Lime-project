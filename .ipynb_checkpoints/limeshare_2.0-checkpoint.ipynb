{
 "cells": [
  {
   "cell_type": "code",
   "execution_count": 3,
   "metadata": {},
   "outputs": [],
   "source": [
    "# Configure Jupyter so figures appear in the notebook\n",
    "%matplotlib inline\n",
    "\n",
    "# Configure Jupyter to display the assigned value after an assignment\n",
    "%config InteractiveShell.ast_node_interactivity='last_expr_or_assign'\n",
    "\n",
    "# import functions from the modsim library\n",
    "from modsim import *\n",
    "\n",
    "# set the random number generator\n",
    "np.random.seed(7)\n",
    "import math"
   ]
  },
  {
   "cell_type": "code",
   "execution_count": 4,
   "metadata": {},
   "outputs": [
    {
     "data": {
      "text/html": [
       "<div>\n",
       "<style scoped>\n",
       "    .dataframe tbody tr th:only-of-type {\n",
       "        vertical-align: middle;\n",
       "    }\n",
       "\n",
       "    .dataframe tbody tr th {\n",
       "        vertical-align: top;\n",
       "    }\n",
       "\n",
       "    .dataframe thead th {\n",
       "        text-align: right;\n",
       "    }\n",
       "</style>\n",
       "<table border=\"1\" class=\"dataframe\">\n",
       "  <thead>\n",
       "    <tr style=\"text-align: right;\">\n",
       "      <th></th>\n",
       "      <th>values</th>\n",
       "    </tr>\n",
       "  </thead>\n",
       "  <tbody>\n",
       "    <tr>\n",
       "      <td>number_of_scooters</td>\n",
       "      <td>20</td>\n",
       "    </tr>\n",
       "    <tr>\n",
       "      <td>av_batt_life</td>\n",
       "      <td>100</td>\n",
       "    </tr>\n",
       "    <tr>\n",
       "      <td>size_of_region</td>\n",
       "      <td>2</td>\n",
       "    </tr>\n",
       "    <tr>\n",
       "      <td>send_truck</td>\n",
       "      <td>-1</td>\n",
       "    </tr>\n",
       "  </tbody>\n",
       "</table>\n",
       "</div>"
      ],
      "text/plain": [
       "number_of_scooters     20\n",
       "av_batt_life          100\n",
       "size_of_region          2\n",
       "send_truck             -1\n",
       "dtype: int64"
      ]
     },
     "execution_count": 4,
     "metadata": {},
     "output_type": "execute_result"
    }
   ],
   "source": [
    "limeshare = State(number_of_scooters = 20, av_batt_life = 100, size_of_region = 2, send_truck = -1)\n",
    "limeshare"
   ]
  },
  {
   "cell_type": "code",
   "execution_count": 5,
   "metadata": {},
   "outputs": [],
   "source": [
    "def step(state, hour):\n",
    "#     find number of users per hour\n",
    "    demand = calcDemand(state, hour)\n",
    "    \n",
    "#     find the av time of use per rider from number of users found above\n",
    "    length_of_use = calcLengthUsed(state, hour)\n",
    "    \n",
    "#     calc change in battery \n",
    "    calcBattDelta(state, demand, length_of_use)\n",
    "    \n",
    "#     find hour to send truck\n",
    "    if(state.av_batt_life < 20 and state.send_truck == -1):\n",
    "        sendTruck(state, hour)\n"
   ]
  },
  {
   "cell_type": "code",
   "execution_count": 6,
   "metadata": {},
   "outputs": [],
   "source": [
    "def calcDemand(state, hour):\n",
    "#     based on time of hour with higher prob in noon 4 traffic rates with sets time of day with max number of scooters\n",
    "    return int(state.number_of_scooters / 10) * 3;\n",
    "\n",
    "def calcLengthUsed(state, hour):\n",
    "#     based on time used realtive to region, hour, demand with max av battry life \n",
    "    return state.size_of_region * 10\n",
    "        \n",
    "def calcBattDelta(state, demand, length_of_use):\n",
    "    s = state.number_of_scooters \n",
    "    c = state.av_batt_life\n",
    "    t = demand\n",
    "    \n",
    "    state.av_batt_life =  math.floor(((s-t)*c + t*(c- length_of_use)) / s)\n",
    "        \n",
    "\n",
    "def sendTruck(state, hour):\n",
    "    state.send_truck = hour;"
   ]
  },
  {
   "cell_type": "code",
   "execution_count": 7,
   "metadata": {},
   "outputs": [],
   "source": [
    "def run_simulation(state, num_steps):     \n",
    "    results = TimeSeries()\n",
    "    for i in range(num_steps):\n",
    "#         adding one for first hour, second hour (most people don't talk hour zero) \n",
    "# also we tho militray time is 00:00 -23:59 we would need exception handling in certain funcs\n",
    "#     this is our line in the sand to prevent calculating after our desired purpose for the model has been found\n",
    "#     if(state.send_truck != -1):\n",
    "#         break;\n",
    "        step(state, i + 1)\n",
    "        results[i] = state.av_batt_life"
   ]
  },
  {
   "cell_type": "code",
   "execution_count": 8,
   "metadata": {},
   "outputs": [
    {
     "data": {
      "text/html": [
       "<div>\n",
       "<style scoped>\n",
       "    .dataframe tbody tr th:only-of-type {\n",
       "        vertical-align: middle;\n",
       "    }\n",
       "\n",
       "    .dataframe tbody tr th {\n",
       "        vertical-align: top;\n",
       "    }\n",
       "\n",
       "    .dataframe thead th {\n",
       "        text-align: right;\n",
       "    }\n",
       "</style>\n",
       "<table border=\"1\" class=\"dataframe\">\n",
       "  <thead>\n",
       "    <tr style=\"text-align: right;\">\n",
       "      <th></th>\n",
       "      <th>values</th>\n",
       "    </tr>\n",
       "  </thead>\n",
       "  <tbody>\n",
       "    <tr>\n",
       "      <td>number_of_scooters</td>\n",
       "      <td>20</td>\n",
       "    </tr>\n",
       "    <tr>\n",
       "      <td>av_batt_life</td>\n",
       "      <td>-116</td>\n",
       "    </tr>\n",
       "    <tr>\n",
       "      <td>size_of_region</td>\n",
       "      <td>3</td>\n",
       "    </tr>\n",
       "    <tr>\n",
       "      <td>send_truck</td>\n",
       "      <td>9</td>\n",
       "    </tr>\n",
       "  </tbody>\n",
       "</table>\n",
       "</div>"
      ],
      "text/plain": [
       "number_of_scooters     20\n",
       "av_batt_life         -116\n",
       "size_of_region          3\n",
       "send_truck              9\n",
       "dtype: int64"
      ]
     },
     "execution_count": 8,
     "metadata": {},
     "output_type": "execute_result"
    }
   ],
   "source": [
    "limeshare = State(number_of_scooters = 20, av_batt_life = 100, size_of_region = 3, send_truck = -1)\n",
    "run_simulation(limeshare, 24)\n",
    "limeshare"
   ]
  },
  {
   "cell_type": "code",
   "execution_count": 9,
   "metadata": {},
   "outputs": [],
   "source": [
    "def runModel():\n",
    "#     tuple array of locations \n",
    "    regions = linspace(1, 5, 10)\n",
    "    results = []\n",
    "    for i in regions:\n",
    "        limeshare = State(number_of_scooters = 20, av_batt_life = 100, size_of_region = round(i + 1, 2), send_truck = -1)\n",
    "        run_simulation(limeshare, 24)\n",
    "        data = (limeshare.size_of_region, limeshare.send_truck)\n",
    "        results.append(data)\n",
    "    return results "
   ]
  },
  {
   "cell_type": "code",
   "execution_count": 10,
   "metadata": {},
   "outputs": [
    {
     "data": {
      "text/plain": [
       "[(2.0, 14.0),\n",
       " (2.44, 11.0),\n",
       " (2.89, 9.0),\n",
       " (3.33, 9.0),\n",
       " (3.78, 7.0),\n",
       " (4.22, 7.0),\n",
       " (4.67, 6.0),\n",
       " (5.11, 6.0),\n",
       " (5.56, 5.0),\n",
       " (6.0, 5.0)]"
      ]
     },
     "execution_count": 10,
     "metadata": {},
     "output_type": "execute_result"
    }
   ],
   "source": [
    "values = runModel()"
   ]
  },
  {
   "cell_type": "code",
   "execution_count": 11,
   "metadata": {},
   "outputs": [],
   "source": [
    "def runModel():\n",
    "#     tuple array of locations \n",
    "    scooters = linspace(20, 70, 10)\n",
    "    results = []\n",
    "    for i in scooters:\n",
    "        limeshare = State(number_of_scooters = int(i), av_batt_life = 100, size_of_region = 2, send_truck = -1)\n",
    "        run_simulation(limeshare, 24)\n",
    "        data = (limeshare.number_of_scooters, limeshare.send_truck)\n",
    "        results.append(data)\n",
    "    return results "
   ]
  },
  {
   "cell_type": "code",
   "execution_count": 14,
   "metadata": {},
   "outputs": [
    {
     "data": {
      "text/plain": [
       "[(20, 14),\n",
       " (25, 17),\n",
       " (31, 14),\n",
       " (36, 17),\n",
       " (42, 14),\n",
       " (47, 14),\n",
       " (53, 14),\n",
       " (58, 14),\n",
       " (64, 14),\n",
       " (70, 14)]"
      ]
     },
     "execution_count": 14,
     "metadata": {},
     "output_type": "execute_result"
    }
   ],
   "source": [
    "values = runModel()"
   ]
  },
  {
   "cell_type": "code",
   "execution_count": null,
   "metadata": {},
   "outputs": [],
   "source": []
  }
 ],
 "metadata": {
  "kernelspec": {
   "display_name": "Python 3",
   "language": "python",
   "name": "python3"
  },
  "language_info": {
   "codemirror_mode": {
    "name": "ipython",
    "version": 3
   },
   "file_extension": ".py",
   "mimetype": "text/x-python",
   "name": "python",
   "nbconvert_exporter": "python",
   "pygments_lexer": "ipython3",
   "version": "3.7.4"
  }
 },
 "nbformat": 4,
 "nbformat_minor": 2
}
