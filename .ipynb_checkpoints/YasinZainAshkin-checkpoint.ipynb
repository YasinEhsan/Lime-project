{
 "cells": [
  {
   "cell_type": "code",
   "execution_count": 21,
   "metadata": {},
   "outputs": [],
   "source": [
    "from modsim import *\n",
    "import math\n",
    "import pandas as pd\n",
    "from random import randint "
   ]
  },
  {
   "cell_type": "markdown",
   "metadata": {},
   "source": [
    "# Limeshare\n",
    "![](https://media3.s-nbcnews.com/j/newscms/2018_44/2625546/181031-lime-scooter-mc-1124_a00349954036680c731079b7c08ae2d1.fit-760w.JPG)"
   ]
  },
  {
   "cell_type": "markdown",
   "metadata": {},
   "source": [
    "## Below is our state with attributes:\n",
    "- **number_of_scooters:** scooters deployed in region (~30)\n",
    "- **av_batt_life:** the average battery life of number_of_scooters a value from (0-100)\n",
    "- **size_of_region:** the square acres of a region (200-2000)\n",
    "- **send_truck:** the hour when we send our truck to recharge all scooters (0-23)\n",
    "- **delta_by_hour:** the change in av_batt_life in each hourly step"
   ]
  },
  {
   "cell_type": "code",
   "execution_count": 22,
   "metadata": {},
   "outputs": [
    {
     "data": {
      "text/html": [
       "<div>\n",
       "<style scoped>\n",
       "    .dataframe tbody tr th:only-of-type {\n",
       "        vertical-align: middle;\n",
       "    }\n",
       "\n",
       "    .dataframe tbody tr th {\n",
       "        vertical-align: top;\n",
       "    }\n",
       "\n",
       "    .dataframe thead th {\n",
       "        text-align: right;\n",
       "    }\n",
       "</style>\n",
       "<table border=\"1\" class=\"dataframe\">\n",
       "  <thead>\n",
       "    <tr style=\"text-align: right;\">\n",
       "      <th></th>\n",
       "      <th>values</th>\n",
       "    </tr>\n",
       "  </thead>\n",
       "  <tbody>\n",
       "    <tr>\n",
       "      <td>number_of_scooters</td>\n",
       "      <td>20</td>\n",
       "    </tr>\n",
       "    <tr>\n",
       "      <td>av_batt_life</td>\n",
       "      <td>100</td>\n",
       "    </tr>\n",
       "    <tr>\n",
       "      <td>size_of_region</td>\n",
       "      <td>200</td>\n",
       "    </tr>\n",
       "    <tr>\n",
       "      <td>send_truck</td>\n",
       "      <td>-1</td>\n",
       "    </tr>\n",
       "    <tr>\n",
       "      <td>delta_by_hour</td>\n",
       "      <td>[]</td>\n",
       "    </tr>\n",
       "  </tbody>\n",
       "</table>\n",
       "</div>"
      ],
      "text/plain": [
       "number_of_scooters     20\n",
       "av_batt_life          100\n",
       "size_of_region        200\n",
       "send_truck             -1\n",
       "delta_by_hour          []\n",
       "dtype: object"
      ]
     },
     "execution_count": 22,
     "metadata": {},
     "output_type": "execute_result"
    }
   ],
   "source": [
    "limeshare = State(number_of_scooters = 20, av_batt_life = 100, size_of_region = 200, send_truck = -1, delta_by_hour = [])\n",
    "limeshare"
   ]
  },
  {
   "cell_type": "markdown",
   "metadata": {},
   "source": [
    "## step for the hour \n",
    "- simulates usage of scooters in a region for one hour \n",
    "- if the av_batt_life is < 20 calls for truck to recharge scooters"
   ]
  },
  {
   "cell_type": "code",
   "execution_count": 23,
   "metadata": {},
   "outputs": [],
   "source": [
    "def step(state, hour):\n",
    "#     find number of users per hour (rush hour = more users)\n",
    "#     returns a num between (0, state.number_of_scooters)\n",
    "    demand = calcDemand(state.number_of_scooters, hour)\n",
    "    \n",
    "#     find the average ride length per rider from demand (bigger region = higher av length of use)\n",
    "#     returns a num between ~(10-60)\n",
    "    length_of_use = calcAverageRide(state.size_of_region, demand)\n",
    "    \n",
    "#     calc change in battery \n",
    "    calcBattDelta(state, demand, length_of_use)\n",
    "    \n",
    "#   adds latest changes in av_batt_life\n",
    "    state.delta_by_hour.append(state.av_batt_life)\n",
    "    \n",
    "#     find hour to send truck\n",
    "    if(state.av_batt_life < 20 and state.send_truck == -1):\n",
    "        sendTruck(state, hour)\n"
   ]
  },
  {
   "cell_type": "markdown",
   "metadata": {},
   "source": [
    "## Calculate demand for scooters based on: \n",
    "- traffic times \n",
    "    - HIGH : going to work (8-10pm), lunch time (12-2pm), going home (4-6pm)\n",
    "    - NUETRAL : early birds (6-8am), night outs (8pm-11pm)\n",
    "    - LOW : all remaining times\n",
    "- scooters in the area (this is a hard max) \n",
    "- randomize using round (say bad weather hour)\n",
    "\n",
    "\n",
    "**Returns num of scooters with range (0, number_of_scooters)**\n",
    "   - the lowest possible demand is zero and the highest is number of scooters int that region"
   ]
  },
  {
   "cell_type": "code",
   "execution_count": 24,
   "metadata": {},
   "outputs": [],
   "source": [
    "def calcDemand(scooters, hour): \n",
    "    if hour >= 8 and hour < 10 or hour >= 12 and hour < 14 or hour >= 16 and hour < 18:\n",
    "        return int(scooters/2) \n",
    "    elif hour == 6 or hour == 7 or hour >= 20 and hour < 23:  \n",
    "        return int(scooters/3)\n",
    "    else: \n",
    "        if hour == 0:\n",
    "            return int(scooters/4) \n",
    "        else:\n",
    "            return int(scooters/4)"
   ]
  },
  {
   "cell_type": "markdown",
   "metadata": {},
   "source": [
    "## Caluculate average ride length of scooters used \n",
    "\n",
    "**factors the affect the ride length**\n",
    "- area of region (the higher the area the longer the ride)\n",
    "- demand (if there is more demand, chances are the rides are longer)\n",
    "\n",
    "**Ranges for inputs**\n",
    "- demand: ~30\n",
    "- areas: 200 - 2000 acres\n",
    "\n",
    "**returns average length scooters used for the hour with range (~10, ~60) min**\n",
    "- check the test methods below "
   ]
  },
  {
   "cell_type": "code",
   "execution_count": 25,
   "metadata": {},
   "outputs": [],
   "source": [
    "def calcAverageRide(area, demand):\n",
    "    return int(area/60) "
   ]
  },
  {
   "cell_type": "markdown",
   "metadata": {},
   "source": [
    "Test the method above with av demand of 30 scooters and area range 500-2k acres"
   ]
  },
  {
   "cell_type": "code",
   "execution_count": 26,
   "metadata": {},
   "outputs": [
    {
     "name": "stdout",
     "output_type": "stream",
     "text": [
      "8 16 33\n"
     ]
    }
   ],
   "source": [
    "print(calcAverageRide(500, 30), calcAverageRide(1000, 30), calcAverageRide(2000, 30))"
   ]
  },
  {
   "cell_type": "markdown",
   "metadata": {},
   "source": [
    "## Calc changes in average battery life of region from demand \n",
    "We came up with a simple formula in class. The whole point of the fucntion is to check how much battery goes down from sccoter usage \n",
    "\n",
    "### CASE STUDY:\n",
    "- lets say before method is called we have 20 scooters (s) in region with av battery life of 100 percent (c) \n",
    "- this means all the scooters in this regions is fully charged\n",
    "- if let's say the demand is only 1 scooter (t) and we say that scooter charge after use goes down 10 percent (d)  \n",
    "- then the average for all the scooters decreases by a little but exactly how much ?  \n",
    "<br/>\n",
    "\n",
    "#### The new average battery life of the region can be calculated by finding... \n",
    "- **batt_not_used:** The av of scooters that were'nt used times the charge \n",
    "    - so 19\\*100 OR (s-t)\\*c = 1900\n",
    "- **batt_used:** the average of scooters that were used times the charge delta \n",
    "    - so 1\\*90 OR t(c-d) = 90\n",
    "- the new average of the region is thus \n",
    "    - (batt_not_used + batt_used) / s = (1900 + 90) / 20 = 99.5\n",
    "\n",
    "THE FORMULA\n",
    "- ((s-t)*c + t*(c- d)) / s\n",
    "    \n",
    "\n",
    "**Inputs range**\n",
    "- state: as defined\n",
    "- demand: same as inputs range for calcDemand() which is (0, state.number_of_scooters) or (0-120ish) for this model\n",
    "- av_length_of_use: same as inputs range for calcAvRide() which is (~10, ~60)"
   ]
  },
  {
   "cell_type": "code",
   "execution_count": 27,
   "metadata": {},
   "outputs": [],
   "source": [
    "def calcBattDelta(state, demand, av_length_of_use):\n",
    "    s = state.number_of_scooters \n",
    "    c = state.av_batt_life\n",
    "    t = demand\n",
    "    d = (av_length_of_use / 60)*100\n",
    "    \n",
    "    state.av_batt_life =  math.floor(((s-t)*c + t*(c- d)) / s)\n",
    "        \n",
    "\n",
    "def sendTruck(state, hour):\n",
    "    state.send_truck = hour;"
   ]
  },
  {
   "cell_type": "markdown",
   "metadata": {},
   "source": [
    "## A day in a region with scooters\n",
    "- simulates usage of scooters in a region for one day\n",
    "- if we have found the hour to send truck, we have found what is needed and exit"
   ]
  },
  {
   "cell_type": "code",
   "execution_count": 28,
   "metadata": {},
   "outputs": [],
   "source": [
    "def run_simulation(state, num_steps):     \n",
    "    results = TimeSeries()\n",
    "    for hour in range(num_steps):\n",
    "        #  this is our line in the sand to prevent calculating after our desired purpose for the model has been found\n",
    "        if(state.send_truck != -1):\n",
    "            return\n",
    "        step(state, hour)\n",
    "        results[hour] = state.av_batt_life"
   ]
  },
  {
   "cell_type": "code",
   "execution_count": 29,
   "metadata": {},
   "outputs": [
    {
     "data": {
      "text/html": [
       "<div>\n",
       "<style scoped>\n",
       "    .dataframe tbody tr th:only-of-type {\n",
       "        vertical-align: middle;\n",
       "    }\n",
       "\n",
       "    .dataframe tbody tr th {\n",
       "        vertical-align: top;\n",
       "    }\n",
       "\n",
       "    .dataframe thead th {\n",
       "        text-align: right;\n",
       "    }\n",
       "</style>\n",
       "<table border=\"1\" class=\"dataframe\">\n",
       "  <thead>\n",
       "    <tr style=\"text-align: right;\">\n",
       "      <th></th>\n",
       "      <th>values</th>\n",
       "    </tr>\n",
       "  </thead>\n",
       "  <tbody>\n",
       "    <tr>\n",
       "      <td>number_of_scooters</td>\n",
       "      <td>20</td>\n",
       "    </tr>\n",
       "    <tr>\n",
       "      <td>av_batt_life</td>\n",
       "      <td>14</td>\n",
       "    </tr>\n",
       "    <tr>\n",
       "      <td>size_of_region</td>\n",
       "      <td>1000</td>\n",
       "    </tr>\n",
       "    <tr>\n",
       "      <td>send_truck</td>\n",
       "      <td>9</td>\n",
       "    </tr>\n",
       "    <tr>\n",
       "      <td>delta_by_hour</td>\n",
       "      <td>[93, 86, 79, 72, 65, 58, 50, 42, 28, 14]</td>\n",
       "    </tr>\n",
       "  </tbody>\n",
       "</table>\n",
       "</div>"
      ],
      "text/plain": [
       "number_of_scooters                                          20\n",
       "av_batt_life                                                14\n",
       "size_of_region                                            1000\n",
       "send_truck                                                   9\n",
       "delta_by_hour         [93, 86, 79, 72, 65, 58, 50, 42, 28, 14]\n",
       "dtype: object"
      ]
     },
     "execution_count": 29,
     "metadata": {},
     "output_type": "execute_result"
    }
   ],
   "source": [
    "limeshare = State(number_of_scooters = 20, av_batt_life = 100, size_of_region = 1000, send_truck = -1, delta_by_hour = [])\n",
    "run_simulation(limeshare, 24)\n",
    "limeshare"
   ]
  },
  {
   "cell_type": "markdown",
   "metadata": {},
   "source": [
    "## run_simulation A:  \n",
    "#### variable *size_of_region*, fixed  *number_of_scooters*\n",
    "- testing acres from 200 to 1000 in increments of 200\n",
    "- tuple array ( region size, hour truck sent, length of batt delta array recorded, first batt delta recorded)\n",
    "    - **if length of batt delta array recorded is 24**, that means that the entire day the av_batt > 20\n",
    "- expectation : with larger region we need to send the truck earlier\n"
   ]
  },
  {
   "cell_type": "code",
   "execution_count": 30,
   "metadata": {},
   "outputs": [],
   "source": [
    "def runModel():\n",
    "#     sample range\n",
    "    regions = linspace(200, 2000, 100)\n",
    "    results = []\n",
    "    for i in regions:\n",
    "#         init state var\n",
    "        limeshare = State(number_of_scooters = 30, av_batt_life = 100, size_of_region = round(i + 1), send_truck = -1, delta_by_hour = [])\n",
    "        run_simulation(limeshare, 24)\n",
    "#         store in tuple \n",
    "        data = (limeshare.size_of_region, limeshare.send_truck, len(limeshare.delta_by_hour), limeshare.delta_by_hour[0] )\n",
    "        results.append(data)\n",
    "    return results "
   ]
  },
  {
   "cell_type": "code",
   "execution_count": 31,
   "metadata": {
    "scrolled": true
   },
   "outputs": [
    {
     "name": "stdout",
     "output_type": "stream",
     "text": [
      "length of batt delta array recorded\n",
      "\n",
      "[24, 24, 24, 24, 24, 24, 24, 24, 24, 22, 22, 22, 22, 21, 21, 21, 17, 17, 17, 16, 16, 16, 15, 15, 15, 15, 13, 13, 13, 13, 13, 13, 12, 12, 12, 12, 11, 11, 11, 11, 11, 11, 10, 10, 10, 10, 10, 10, 10, 10, 10, 10, 9, 9, 9, 9, 9, 9, 9, 9, 9, 9, 9, 9, 9, 9, 9, 9, 9, 8, 8, 8, 8, 8, 8, 7, 7, 7, 7, 7, 7, 7, 7, 7, 7, 7, 7, 7, 7, 7, 7, 7, 7, 7, 7, 7, 7, 7, 7, 7]\n"
     ]
    }
   ],
   "source": [
    "sample_regions = runModel()\n",
    "# print length of batt delta array recorded\n",
    "print(\"length of batt delta array recorded\\n\")\n",
    "print([x[2] for x in sample_regions])\n"
   ]
  },
  {
   "cell_type": "code",
   "execution_count": 32,
   "metadata": {},
   "outputs": [
    {
     "data": {
      "image/png": "[encoded data removed]",
      "text/plain": [
       "<Figure size 432x288 with 1 Axes>"
      ]
     },
     "metadata": {
      "needs_background": "light"
     },
     "output_type": "display_data"
    }
   ],
   "source": [
    "# graph to view our expectation\n",
    "plot([x[0] for x in sample_regions], [x[1] for x in sample_regions], label='')\n",
    "def decorate_limeshare():\n",
    "    \"\"\"Add a title and label the axes.\"\"\"\n",
    "    decorate(title='variable *size_of_region*, fixed  *number_of_scooters*',\n",
    "             xlabel='size_of_region', \n",
    "             ylabel='send_truck')\n",
    "decorate_limeshare()"
   ]
  },
  {
   "cell_type": "markdown",
   "metadata": {},
   "source": [
    "## Results \n",
    "- expectations met! "
   ]
  },
  {
   "cell_type": "markdown",
   "metadata": {},
   "source": [
    "## Model with real data \n",
    "- below are the actual sizes of regions in acres within Queens"
   ]
  },
  {
   "cell_type": "code",
   "execution_count": 33,
   "metadata": {},
   "outputs": [],
   "source": [
    "region_data = [(\"Forest Hills\", 1664), \n",
    "                (\"Jamaica\", 1709), \n",
    "                (\"Richmond Hill\", 1171),\n",
    "                (\"Ozone Park\",576),\n",
    "                (\"Queens Village\", 1611),\n",
    "                (\"Astoria\", 902),\n",
    "                (\"College Point\", 1148),\n",
    "                (\"Woodside\", 649)]"
   ]
  },
  {
   "cell_type": "code",
   "execution_count": 34,
   "metadata": {},
   "outputs": [
    {
     "name": "stdout",
     "output_type": "stream",
     "text": [
      "['Forest Hills', 'Jamaica', 'Richmond Hill', 'Ozone Park', 'Queens Village', 'Astoria', 'College Point', 'Woodside']\n",
      "[1664, 1709, 1171, 576, 1611, 902, 1148, 649]\n",
      "[('Forest Hills', 1664), ('Jamaica', 1709), ('Richmond Hill', 1171), ('Ozone Park', 576), ('Queens Village', 1611), ('Astoria', 902), ('College Point', 1148), ('Woodside', 649)]\n"
     ]
    }
   ],
   "source": [
    "# print only the region names\n",
    "print([x[0] for x in region_data])\n",
    "# print the areas\n",
    "print([x[1] for x in region_data])\n",
    "# print tuple\n",
    "print(region_data)\n"
   ]
  },
  {
   "cell_type": "markdown",
   "metadata": {},
   "source": [
    "#### sort tuple array by area "
   ]
  },
  {
   "cell_type": "code",
   "execution_count": 35,
   "metadata": {},
   "outputs": [
    {
     "name": "stdout",
     "output_type": "stream",
     "text": [
      "[576, 649, 902, 1148, 1171, 1611, 1664, 1709]\n",
      "[('Ozone Park', 576), ('Woodside', 649), ('Astoria', 902), ('College Point', 1148), ('Richmond Hill', 1171), ('Queens Village', 1611), ('Forest Hills', 1664), ('Jamaica', 1709)]\n"
     ]
    }
   ],
   "source": [
    "region_data.sort(key=lambda tup: tup[1])\n",
    "# print the areas\n",
    "print([x[1] for x in region_data])\n",
    "# print tuple\n",
    "print(region_data)\n"
   ]
  },
  {
   "cell_type": "markdown",
   "metadata": {},
   "source": [
    "## run_simulation B:  \n",
    "#### use real data to model which hour we send truck"
   ]
  },
  {
   "cell_type": "code",
   "execution_count": 36,
   "metadata": {},
   "outputs": [],
   "source": [
    "def runModel():\n",
    "    results = []\n",
    "#   [x[1] for x in region_data] is the array containing the second values of our tuple (real areas)\n",
    "    real_areas = [x[1] for x in region_data]\n",
    "    for area in real_areas:\n",
    "        limeshare = State(number_of_scooters = 30, av_batt_life = 100, size_of_region = area, send_truck = -1, delta_by_hour = [])\n",
    "        run_simulation(limeshare, 24)\n",
    "        data = (limeshare.size_of_region, limeshare.send_truck, len(limeshare.delta_by_hour))\n",
    "        results.append(data)\n",
    "    return results "
   ]
  },
  {
   "cell_type": "code",
   "execution_count": 37,
   "metadata": {},
   "outputs": [
    {
     "data": {
      "image/png": "[encoded data removed]",
      "text/plain": [
       "<Figure size 432x288 with 1 Axes>"
      ]
     },
     "metadata": {
      "needs_background": "light"
     },
     "output_type": "display_data"
    }
   ],
   "source": [
    "model_data = runModel()\n",
    "plot([x[0] for x in model_data], [x[1] for x in model_data], label='')\n",
    "def decorate_limeshare():\n",
    "    \"\"\"Add a title and label the axes.\"\"\"\n",
    "    decorate(title='Times to send truck in Queens based of region size',\n",
    "             xlabel='size_of_region', \n",
    "             ylabel='send_truck')\n",
    "decorate_limeshare()"
   ]
  },
  {
   "cell_type": "code",
   "execution_count": 38,
   "metadata": {},
   "outputs": [
    {
     "name": "stdout",
     "output_type": "stream",
     "text": [
      "['Ozone Park', 'Woodside', 'Astoria', 'College Point', 'Richmond Hill', 'Queens Village', 'Forest Hills', 'Jamaica'] [15, 14, 10, 8, 8, 6, 6, 6]\n"
     ]
    }
   ],
   "source": [
    "print([x[0] for x in region_data], [x[1] for x in model_data])"
   ]
  },
  {
   "cell_type": "markdown",
   "metadata": {},
   "source": [
    "### MODEL RESULTS \n",
    "- for ozone park we send out truck at time 15\n",
    "- for jamaica we send at time 6"
   ]
  }
 ],
 "metadata": {
  "kernelspec": {
   "display_name": "Python 3",
   "language": "python",
   "name": "python3"
  },
  "language_info": {
   "codemirror_mode": {
    "name": "ipython",
    "version": 3
   },
   "file_extension": ".py",
   "mimetype": "text/x-python",
   "name": "python",
   "nbconvert_exporter": "python",
   "pygments_lexer": "ipython3",
   "version": "3.7.4"
  }
 },
 "nbformat": 4,
 "nbformat_minor": 2
}
